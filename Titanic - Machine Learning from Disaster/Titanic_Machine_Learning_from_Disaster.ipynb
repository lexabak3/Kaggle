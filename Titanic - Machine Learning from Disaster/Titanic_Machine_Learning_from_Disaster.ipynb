{
  "nbformat": 4,
  "nbformat_minor": 0,
  "metadata": {
    "colab": {
      "name": "Titanic - Machine Learning from Disaster.ipynb",
      "provenance": [],
      "collapsed_sections": [],
      "toc_visible": true,
      "mount_file_id": "1ovOhKfeMyTHqRvNUhbnrK9_AemofRB6k",
      "authorship_tag": "ABX9TyOBFxGX5X07WTRdkx+8d8kj",
      "include_colab_link": true
    },
    "kernelspec": {
      "name": "python3",
      "display_name": "Python 3"
    },
    "language_info": {
      "name": "python"
    }
  },
  "cells": [
    {
      "cell_type": "markdown",
      "metadata": {
        "id": "view-in-github",
        "colab_type": "text"
      },
      "source": [
        "<a href=\"https://colab.research.google.com/github/lexabak3/Kaggle/blob/main/Titanic%20-%20Machine%20Learning%20from%20Disaster/Titanic_Machine_Learning_from_Disaster.ipynb\" target=\"_parent\"><img src=\"https://colab.research.google.com/assets/colab-badge.svg\" alt=\"Open In Colab\"/></a>"
      ]
    },
    {
      "cell_type": "code",
      "metadata": {
        "id": "3skiPmZaAs1w"
      },
      "source": [
        "import pandas as pd\n",
        "import numpy as np\n",
        "import matplotlib.pyplot as plt\n",
        "import seaborn as sns\n",
        "import sklearn as sk\n",
        "import os"
      ],
      "execution_count": 1,
      "outputs": []
    },
    {
      "cell_type": "code",
      "metadata": {
        "colab": {
          "base_uri": "https://localhost:8080/"
        },
        "id": "iHyjCvLNB32b",
        "outputId": "cc5c2194-db32-483d-dae9-32f581fbbd54"
      },
      "source": [
        "from google.colab import drive\n",
        "drive.mount('/content/drive')"
      ],
      "execution_count": 2,
      "outputs": [
        {
          "output_type": "stream",
          "name": "stdout",
          "text": [
            "Drive already mounted at /content/drive; to attempt to forcibly remount, call drive.mount(\"/content/drive\", force_remount=True).\n"
          ]
        }
      ]
    },
    {
      "cell_type": "code",
      "metadata": {
        "id": "QEgPL0Suyzrf"
      },
      "source": [
        "import sys\n",
        "sys.path.append('drive/MyDrive/')"
      ],
      "execution_count": 3,
      "outputs": []
    },
    {
      "cell_type": "code",
      "metadata": {
        "id": "nBa_oL0BzDN5"
      },
      "source": [
        "from my_python_lib.roc_auc_lib import *"
      ],
      "execution_count": 4,
      "outputs": []
    },
    {
      "cell_type": "code",
      "metadata": {
        "id": "w41rJTMmrh52"
      },
      "source": [
        "def new_age(row):\n",
        "    if row.Age > 64:\n",
        "        row.c_age = 3\n",
        "    elif row.Age < 10:\n",
        "        row.c_age = 1\n",
        "    elif row.Age >= 10 and row.Age <= 64:\n",
        "        row.c_age = 2\n",
        "    else: \n",
        "        row.c_age = -1\n",
        "    return row"
      ],
      "execution_count": 5,
      "outputs": []
    },
    {
      "cell_type": "code",
      "metadata": {
        "id": "-3_DEQo3CXi3"
      },
      "source": [
        "path_ = 'drive/MyDrive/Kaggle/Titanic/DATA/'"
      ],
      "execution_count": 6,
      "outputs": []
    },
    {
      "cell_type": "code",
      "metadata": {
        "colab": {
          "base_uri": "https://localhost:8080/"
        },
        "id": "XEvzy4llCJwg",
        "outputId": "227466ce-bff9-4fc7-8731-238b106aa101"
      },
      "source": [
        "os.listdir(path_)"
      ],
      "execution_count": 7,
      "outputs": [
        {
          "output_type": "execute_result",
          "data": {
            "text/plain": [
              "['train.csv', 'test.csv']"
            ]
          },
          "metadata": {},
          "execution_count": 7
        }
      ]
    },
    {
      "cell_type": "code",
      "metadata": {
        "id": "-OImFHx1BG7k"
      },
      "source": [
        "df = pd.read_csv(path_+'train.csv', index_col='PassengerId')"
      ],
      "execution_count": 8,
      "outputs": []
    },
    {
      "cell_type": "code",
      "metadata": {
        "colab": {
          "base_uri": "https://localhost:8080/",
          "height": 450
        },
        "id": "qzP4VTaPFFpN",
        "outputId": "e89b2d4d-2f9b-4edb-d696-bc759a967d18"
      },
      "source": [
        "df"
      ],
      "execution_count": 9,
      "outputs": [
        {
          "output_type": "execute_result",
          "data": {
            "text/html": [
              "<div>\n",
              "<style scoped>\n",
              "    .dataframe tbody tr th:only-of-type {\n",
              "        vertical-align: middle;\n",
              "    }\n",
              "\n",
              "    .dataframe tbody tr th {\n",
              "        vertical-align: top;\n",
              "    }\n",
              "\n",
              "    .dataframe thead th {\n",
              "        text-align: right;\n",
              "    }\n",
              "</style>\n",
              "<table border=\"1\" class=\"dataframe\">\n",
              "  <thead>\n",
              "    <tr style=\"text-align: right;\">\n",
              "      <th></th>\n",
              "      <th>Survived</th>\n",
              "      <th>Pclass</th>\n",
              "      <th>Name</th>\n",
              "      <th>Sex</th>\n",
              "      <th>Age</th>\n",
              "      <th>SibSp</th>\n",
              "      <th>Parch</th>\n",
              "      <th>Ticket</th>\n",
              "      <th>Fare</th>\n",
              "      <th>Cabin</th>\n",
              "      <th>Embarked</th>\n",
              "    </tr>\n",
              "    <tr>\n",
              "      <th>PassengerId</th>\n",
              "      <th></th>\n",
              "      <th></th>\n",
              "      <th></th>\n",
              "      <th></th>\n",
              "      <th></th>\n",
              "      <th></th>\n",
              "      <th></th>\n",
              "      <th></th>\n",
              "      <th></th>\n",
              "      <th></th>\n",
              "      <th></th>\n",
              "    </tr>\n",
              "  </thead>\n",
              "  <tbody>\n",
              "    <tr>\n",
              "      <th>1</th>\n",
              "      <td>0</td>\n",
              "      <td>3</td>\n",
              "      <td>Braund, Mr. Owen Harris</td>\n",
              "      <td>male</td>\n",
              "      <td>22.0</td>\n",
              "      <td>1</td>\n",
              "      <td>0</td>\n",
              "      <td>A/5 21171</td>\n",
              "      <td>7.2500</td>\n",
              "      <td>NaN</td>\n",
              "      <td>S</td>\n",
              "    </tr>\n",
              "    <tr>\n",
              "      <th>2</th>\n",
              "      <td>1</td>\n",
              "      <td>1</td>\n",
              "      <td>Cumings, Mrs. John Bradley (Florence Briggs Th...</td>\n",
              "      <td>female</td>\n",
              "      <td>38.0</td>\n",
              "      <td>1</td>\n",
              "      <td>0</td>\n",
              "      <td>PC 17599</td>\n",
              "      <td>71.2833</td>\n",
              "      <td>C85</td>\n",
              "      <td>C</td>\n",
              "    </tr>\n",
              "    <tr>\n",
              "      <th>3</th>\n",
              "      <td>1</td>\n",
              "      <td>3</td>\n",
              "      <td>Heikkinen, Miss. Laina</td>\n",
              "      <td>female</td>\n",
              "      <td>26.0</td>\n",
              "      <td>0</td>\n",
              "      <td>0</td>\n",
              "      <td>STON/O2. 3101282</td>\n",
              "      <td>7.9250</td>\n",
              "      <td>NaN</td>\n",
              "      <td>S</td>\n",
              "    </tr>\n",
              "    <tr>\n",
              "      <th>4</th>\n",
              "      <td>1</td>\n",
              "      <td>1</td>\n",
              "      <td>Futrelle, Mrs. Jacques Heath (Lily May Peel)</td>\n",
              "      <td>female</td>\n",
              "      <td>35.0</td>\n",
              "      <td>1</td>\n",
              "      <td>0</td>\n",
              "      <td>113803</td>\n",
              "      <td>53.1000</td>\n",
              "      <td>C123</td>\n",
              "      <td>S</td>\n",
              "    </tr>\n",
              "    <tr>\n",
              "      <th>5</th>\n",
              "      <td>0</td>\n",
              "      <td>3</td>\n",
              "      <td>Allen, Mr. William Henry</td>\n",
              "      <td>male</td>\n",
              "      <td>35.0</td>\n",
              "      <td>0</td>\n",
              "      <td>0</td>\n",
              "      <td>373450</td>\n",
              "      <td>8.0500</td>\n",
              "      <td>NaN</td>\n",
              "      <td>S</td>\n",
              "    </tr>\n",
              "    <tr>\n",
              "      <th>...</th>\n",
              "      <td>...</td>\n",
              "      <td>...</td>\n",
              "      <td>...</td>\n",
              "      <td>...</td>\n",
              "      <td>...</td>\n",
              "      <td>...</td>\n",
              "      <td>...</td>\n",
              "      <td>...</td>\n",
              "      <td>...</td>\n",
              "      <td>...</td>\n",
              "      <td>...</td>\n",
              "    </tr>\n",
              "    <tr>\n",
              "      <th>887</th>\n",
              "      <td>0</td>\n",
              "      <td>2</td>\n",
              "      <td>Montvila, Rev. Juozas</td>\n",
              "      <td>male</td>\n",
              "      <td>27.0</td>\n",
              "      <td>0</td>\n",
              "      <td>0</td>\n",
              "      <td>211536</td>\n",
              "      <td>13.0000</td>\n",
              "      <td>NaN</td>\n",
              "      <td>S</td>\n",
              "    </tr>\n",
              "    <tr>\n",
              "      <th>888</th>\n",
              "      <td>1</td>\n",
              "      <td>1</td>\n",
              "      <td>Graham, Miss. Margaret Edith</td>\n",
              "      <td>female</td>\n",
              "      <td>19.0</td>\n",
              "      <td>0</td>\n",
              "      <td>0</td>\n",
              "      <td>112053</td>\n",
              "      <td>30.0000</td>\n",
              "      <td>B42</td>\n",
              "      <td>S</td>\n",
              "    </tr>\n",
              "    <tr>\n",
              "      <th>889</th>\n",
              "      <td>0</td>\n",
              "      <td>3</td>\n",
              "      <td>Johnston, Miss. Catherine Helen \"Carrie\"</td>\n",
              "      <td>female</td>\n",
              "      <td>NaN</td>\n",
              "      <td>1</td>\n",
              "      <td>2</td>\n",
              "      <td>W./C. 6607</td>\n",
              "      <td>23.4500</td>\n",
              "      <td>NaN</td>\n",
              "      <td>S</td>\n",
              "    </tr>\n",
              "    <tr>\n",
              "      <th>890</th>\n",
              "      <td>1</td>\n",
              "      <td>1</td>\n",
              "      <td>Behr, Mr. Karl Howell</td>\n",
              "      <td>male</td>\n",
              "      <td>26.0</td>\n",
              "      <td>0</td>\n",
              "      <td>0</td>\n",
              "      <td>111369</td>\n",
              "      <td>30.0000</td>\n",
              "      <td>C148</td>\n",
              "      <td>C</td>\n",
              "    </tr>\n",
              "    <tr>\n",
              "      <th>891</th>\n",
              "      <td>0</td>\n",
              "      <td>3</td>\n",
              "      <td>Dooley, Mr. Patrick</td>\n",
              "      <td>male</td>\n",
              "      <td>32.0</td>\n",
              "      <td>0</td>\n",
              "      <td>0</td>\n",
              "      <td>370376</td>\n",
              "      <td>7.7500</td>\n",
              "      <td>NaN</td>\n",
              "      <td>Q</td>\n",
              "    </tr>\n",
              "  </tbody>\n",
              "</table>\n",
              "<p>891 rows × 11 columns</p>\n",
              "</div>"
            ],
            "text/plain": [
              "             Survived  Pclass  ... Cabin Embarked\n",
              "PassengerId                    ...               \n",
              "1                   0       3  ...   NaN        S\n",
              "2                   1       1  ...   C85        C\n",
              "3                   1       3  ...   NaN        S\n",
              "4                   1       1  ...  C123        S\n",
              "5                   0       3  ...   NaN        S\n",
              "...               ...     ...  ...   ...      ...\n",
              "887                 0       2  ...   NaN        S\n",
              "888                 1       1  ...   B42        S\n",
              "889                 0       3  ...   NaN        S\n",
              "890                 1       1  ...  C148        C\n",
              "891                 0       3  ...   NaN        Q\n",
              "\n",
              "[891 rows x 11 columns]"
            ]
          },
          "metadata": {},
          "execution_count": 9
        }
      ]
    },
    {
      "cell_type": "markdown",
      "metadata": {
        "id": "LZB02UgpTZOg"
      },
      "source": [
        "# **Graphical data analysis**"
      ]
    },
    {
      "cell_type": "markdown",
      "metadata": {
        "id": "U-ZfvxCTTmOx"
      },
      "source": [
        "### Age"
      ]
    },
    {
      "cell_type": "code",
      "metadata": {
        "id": "rQLW2MIHeAIS"
      },
      "source": [
        "df['age_null'] = 0\n",
        "df.loc[df[df.Age.isnull() == True].index,'age_null'] = 1"
      ],
      "execution_count": 29,
      "outputs": []
    },
    {
      "cell_type": "code",
      "metadata": {
        "id": "ZzaqC-lCMw8l",
        "colab": {
          "base_uri": "https://localhost:8080/",
          "height": 369
        },
        "outputId": "e2b2a990-9900-4322-a2d9-8e6b717f9a82"
      },
      "source": [
        "sns.displot(x=df.Age, kde=True);"
      ],
      "execution_count": 11,
      "outputs": [
        {
          "output_type": "display_data",
          "data": {
            "image/png": "[encoded data removed]",
            "text/plain": [
              "<Figure size 360x360 with 1 Axes>"
            ]
          },
          "metadata": {
            "needs_background": "light"
          }
        }
      ]
    },
    {
      "cell_type": "markdown",
      "metadata": {
        "id": "BQNEKAnZSRZy"
      },
      "source": [
        "### Age + Survived"
      ]
    },
    {
      "cell_type": "code",
      "metadata": {
        "id": "Z37XLBkVOEM_",
        "colab": {
          "base_uri": "https://localhost:8080/",
          "height": 330
        },
        "outputId": "17deb878-77e9-460e-ddd2-1976c15db7f9"
      },
      "source": [
        "sns.swarmplot(y=df.Age, x=df.Survived)\n",
        "plt.plot([-1,2], [9]*2)\n",
        "plt.plot([-1,2], [64]*2)"
      ],
      "execution_count": 12,
      "outputs": [
        {
          "output_type": "stream",
          "name": "stderr",
          "text": [
            "/usr/local/lib/python3.7/dist-packages/seaborn/categorical.py:1296: UserWarning: 6.7% of the points cannot be placed; you may want to decrease the size of the markers or use stripplot.\n",
            "  warnings.warn(msg, UserWarning)\n"
          ]
        },
        {
          "output_type": "execute_result",
          "data": {
            "text/plain": [
              "[<matplotlib.lines.Line2D at 0x7fb3346331d0>]"
            ]
          },
          "metadata": {},
          "execution_count": 12
        },
        {
          "output_type": "display_data",
          "data": {
            "image/png": "[encoded data removed]",
            "text/plain": [
              "<Figure size 432x288 with 1 Axes>"
            ]
          },
          "metadata": {
            "needs_background": "light"
          }
        }
      ]
    },
    {
      "cell_type": "markdown",
      "metadata": {
        "id": "IJQpKIaDSaY5"
      },
      "source": [
        "### Pclass + Age + Survived + Sex"
      ]
    },
    {
      "cell_type": "code",
      "metadata": {
        "id": "gQo_4aeXFbn7",
        "colab": {
          "base_uri": "https://localhost:8080/",
          "height": 383
        },
        "outputId": "d6364be4-5f36-441d-cd41-372840e609ed"
      },
      "source": [
        "sns.catplot(x=\"Pclass\", y=\"Age\", hue=\"Survived\", kind=\"swarm\",\n",
        "            col='Sex', data=df, s = 3);"
      ],
      "execution_count": 13,
      "outputs": [
        {
          "output_type": "display_data",
          "data": {
            "image/png": "[encoded data removed]",
            "text/plain": [
              "<Figure size 771.875x360 with 2 Axes>"
            ]
          },
          "metadata": {
            "needs_background": "light"
          }
        }
      ]
    },
    {
      "cell_type": "markdown",
      "metadata": {
        "id": "7cGfr1JqUeE5"
      },
      "source": [
        "### Fare"
      ]
    },
    {
      "cell_type": "code",
      "metadata": {
        "id": "y8sulm4AeNvl"
      },
      "source": [
        "df['c_fare'] = pd.factorize(pd.qcut(df.Fare, 10))[0]/10"
      ],
      "execution_count": 23,
      "outputs": []
    },
    {
      "cell_type": "code",
      "metadata": {
        "colab": {
          "base_uri": "https://localhost:8080/",
          "height": 369
        },
        "id": "tpFfkTr7VKnJ",
        "outputId": "d9fffeb6-d9a1-4349-e1a4-5db637ff3329"
      },
      "source": [
        "sns.displot(x=df.Fare, kde=True);"
      ],
      "execution_count": 15,
      "outputs": [
        {
          "output_type": "display_data",
          "data": {
            "image/png": "[encoded data removed]",
            "text/plain": [
              "<Figure size 360x360 with 1 Axes>"
            ]
          },
          "metadata": {
            "needs_background": "light"
          }
        }
      ]
    },
    {
      "cell_type": "markdown",
      "metadata": {
        "id": "LC_56WwpXiiF"
      },
      "source": [
        "### Fare + Survived"
      ]
    },
    {
      "cell_type": "code",
      "metadata": {
        "id": "lwWx0LGq7gYj",
        "colab": {
          "base_uri": "https://localhost:8080/",
          "height": 369
        },
        "outputId": "cf9ea359-a8ef-4858-a13a-f96b18a3478e"
      },
      "source": [
        "sns.displot(data=df, x='Fare', hue='Survived',\n",
        "            kind='kde',\n",
        "            fill=True);"
      ],
      "execution_count": 16,
      "outputs": [
        {
          "output_type": "display_data",
          "data": {
            "image/png": "[encoded data removed]",
            "text/plain": [
              "<Figure size 411.875x360 with 1 Axes>"
            ]
          },
          "metadata": {
            "needs_background": "light"
          }
        }
      ]
    },
    {
      "cell_type": "markdown",
      "metadata": {
        "id": "GcIwXTyTVO6e"
      },
      "source": [
        "### Pclass + Fare + Survived + Sex"
      ]
    },
    {
      "cell_type": "code",
      "metadata": {
        "colab": {
          "base_uri": "https://localhost:8080/",
          "height": 536
        },
        "id": "LVS6FfAsWVB2",
        "outputId": "4a685331-6df0-4122-b7ab-9b0a49d0f8d1"
      },
      "source": [
        "sns.catplot(x=\"Pclass\", y=\"Fare\", hue='Sex',\n",
        "            kind=\"swarm\", col='Survived', data=df, s = 3)"
      ],
      "execution_count": 17,
      "outputs": [
        {
          "output_type": "stream",
          "name": "stderr",
          "text": [
            "/usr/local/lib/python3.7/dist-packages/seaborn/categorical.py:1296: UserWarning: 11.3% of the points cannot be placed; you may want to decrease the size of the markers or use stripplot.\n",
            "  warnings.warn(msg, UserWarning)\n",
            "/usr/local/lib/python3.7/dist-packages/seaborn/categorical.py:1296: UserWarning: 57.0% of the points cannot be placed; you may want to decrease the size of the markers or use stripplot.\n",
            "  warnings.warn(msg, UserWarning)\n",
            "/usr/local/lib/python3.7/dist-packages/seaborn/categorical.py:1296: UserWarning: 9.2% of the points cannot be placed; you may want to decrease the size of the markers or use stripplot.\n",
            "  warnings.warn(msg, UserWarning)\n",
            "/usr/local/lib/python3.7/dist-packages/seaborn/categorical.py:1296: UserWarning: 37.0% of the points cannot be placed; you may want to decrease the size of the markers or use stripplot.\n",
            "  warnings.warn(msg, UserWarning)\n"
          ]
        },
        {
          "output_type": "execute_result",
          "data": {
            "text/plain": [
              "<seaborn.axisgrid.FacetGrid at 0x7fb332ab09d0>"
            ]
          },
          "metadata": {},
          "execution_count": 17
        },
        {
          "output_type": "display_data",
          "data": {
            "image/png": "[encoded data removed]",
            "text/plain": [
              "<Figure size 790.5x360 with 2 Axes>"
            ]
          },
          "metadata": {
            "needs_background": "light"
          }
        }
      ]
    },
    {
      "cell_type": "code",
      "metadata": {
        "id": "aVC6Eqo26grs",
        "colab": {
          "base_uri": "https://localhost:8080/",
          "height": 536
        },
        "outputId": "280fbe4c-de29-4a81-b1a8-8578a9e91322"
      },
      "source": [
        "sns.catplot(x=\"Pclass\", y=\"Fare\", hue=\"Survived\",\n",
        "            kind=\"swarm\", col='Sex', data=df, s = 3)"
      ],
      "execution_count": 18,
      "outputs": [
        {
          "output_type": "stream",
          "name": "stderr",
          "text": [
            "/usr/local/lib/python3.7/dist-packages/seaborn/categorical.py:1296: UserWarning: 9.0% of the points cannot be placed; you may want to decrease the size of the markers or use stripplot.\n",
            "  warnings.warn(msg, UserWarning)\n",
            "/usr/local/lib/python3.7/dist-packages/seaborn/categorical.py:1296: UserWarning: 31.5% of the points cannot be placed; you may want to decrease the size of the markers or use stripplot.\n",
            "  warnings.warn(msg, UserWarning)\n",
            "/usr/local/lib/python3.7/dist-packages/seaborn/categorical.py:1296: UserWarning: 66.9% of the points cannot be placed; you may want to decrease the size of the markers or use stripplot.\n",
            "  warnings.warn(msg, UserWarning)\n",
            "/usr/local/lib/python3.7/dist-packages/seaborn/categorical.py:1296: UserWarning: 31.2% of the points cannot be placed; you may want to decrease the size of the markers or use stripplot.\n",
            "  warnings.warn(msg, UserWarning)\n"
          ]
        },
        {
          "output_type": "execute_result",
          "data": {
            "text/plain": [
              "<seaborn.axisgrid.FacetGrid at 0x7fb33ff88950>"
            ]
          },
          "metadata": {},
          "execution_count": 18
        },
        {
          "output_type": "display_data",
          "data": {
            "image/png": "[encoded data removed]",
            "text/plain": [
              "<Figure size 771.875x360 with 2 Axes>"
            ]
          },
          "metadata": {
            "needs_background": "light"
          }
        }
      ]
    },
    {
      "cell_type": "markdown",
      "metadata": {
        "id": "u47ku4u_W9sp"
      },
      "source": [
        "### Grouped Fare"
      ]
    },
    {
      "cell_type": "code",
      "metadata": {
        "colab": {
          "base_uri": "https://localhost:8080/",
          "height": 334
        },
        "id": "sZYJLzpqNMQ1",
        "outputId": "e58c7354-0bc7-4e6c-cf7a-62a7c780cdc7"
      },
      "source": [
        "tmp_df = df.groupby(['c_fare','Survived']).size().to_frame()\n",
        "tmp_df['prc'] = tmp_df.groupby(level=0).transform(lambda x: (x / x.sum()).round(2))\n",
        "tmp_df = tmp_df.reset_index()\n",
        "\n",
        "plt.figure(figsize=(5,5))\n",
        "sns.stripplot(x=\"c_fare\", y=\"Fare\", hue=\"Survived\", data=df)\n",
        "plt.xticks(range(len(tmp_df.c_fare.unique())), range(len(tmp_df.c_fare.unique())))\n",
        "plt.xlabel(\"Group\")\n",
        "plt.show()"
      ],
      "execution_count": 30,
      "outputs": [
        {
          "output_type": "display_data",
          "data": {
            "image/png": "[encoded data removed]",
            "text/plain": [
              "<Figure size 360x360 with 1 Axes>"
            ]
          },
          "metadata": {
            "needs_background": "light"
          }
        }
      ]
    },
    {
      "cell_type": "code",
      "metadata": {
        "colab": {
          "base_uri": "https://localhost:8080/",
          "height": 295
        },
        "id": "uPo_GDAmXglw",
        "outputId": "11a3a348-eb42-446b-c17e-e8a8b0016645"
      },
      "source": [
        "# df['c_fare'] = pd.qcut(df.Fare, 10)\n",
        "\n",
        "Survived_0 = tmp_df[tmp_df.Survived == 0].prc.to_numpy()\n",
        "Survived_1 = tmp_df[tmp_df.Survived == 1].prc.to_numpy()\n",
        "list_c_fare = [str(x) for x in tmp_df.c_fare.unique().astype('str')]\n",
        "X_axis = np.arange(len(list_c_fare))\n",
        "\n",
        "plt.bar(X_axis - 0.2, Survived_0, 0.4, label = 'Survived_0')\n",
        "plt.bar(X_axis + 0.2, Survived_1, 0.4, label = 'Survived_1')\n",
        "  \n",
        "plt.xticks(X_axis, X_axis)\n",
        "plt.xlabel(\"Group\")\n",
        "plt.ylabel(\"Percentage in the group\")\n",
        "plt.title('Grouped by Fare')\n",
        "plt.legend()\n",
        "plt.show()"
      ],
      "execution_count": 21,
      "outputs": [
        {
          "output_type": "display_data",
          "data": {
            "image/png": "[encoded data removed]",
            "text/plain": [
              "<Figure size 432x288 with 1 Axes>"
            ]
          },
          "metadata": {
            "needs_background": "light"
          }
        }
      ]
    },
    {
      "cell_type": "markdown",
      "metadata": {
        "id": "KXE57mQmXHih"
      },
      "source": [
        "### Grouped Fare + Age (Null/Not Null)"
      ]
    },
    {
      "cell_type": "code",
      "metadata": {
        "colab": {
          "base_uri": "https://localhost:8080/",
          "height": 404
        },
        "id": "Sx1WJiqOIWHf",
        "outputId": "5f66c886-481e-458b-e15a-c98d85346e18"
      },
      "source": [
        "tmp_df = df[df.age_null==1].groupby(['c_fare','Survived']).size().to_frame()\n",
        "tmp_df['prc'] = tmp_df.groupby(level=0).transform(lambda x: (x / x.sum()).round(2))\n",
        "tmp_df = tmp_df.reset_index()\n",
        "\n",
        "Survived_0_age_null = tmp_df[tmp_df.Survived == 0].prc.to_numpy()\n",
        "Survived_1_age_null = tmp_df[tmp_df.Survived == 1].prc.to_numpy()\n",
        "\n",
        "tmp_df = df[df.age_null==0].groupby(['c_fare','Survived']).size().to_frame()\n",
        "tmp_df['prc'] = tmp_df.groupby(level=0).transform(lambda x: (x / x.sum()).round(2))\n",
        "tmp_df = tmp_df.reset_index()\n",
        "\n",
        "Survived_0_age_not_null = tmp_df[tmp_df.Survived == 0].prc.to_numpy()\n",
        "Survived_1_age_not_null = tmp_df[tmp_df.Survived == 1].prc.to_numpy()\n",
        "\n",
        "list_c_fare = [str(x) for x in tmp_df.c_fare.unique().astype('str')]\n",
        "X_axis = np.arange(len(list_c_fare))\n",
        "\n",
        "plt.figure(figsize=(10,6))\n",
        "\n",
        "plt.bar(X_axis - 0.2, Survived_0_age_null, width = 0.2,\n",
        "        color='skyblue',\n",
        "        label = 'Survived_0_age_null')\n",
        "plt.bar(X_axis + 0.0, Survived_0_age_not_null, width = 0.2,\n",
        "        color='tab:blue',\n",
        "        label = 'Survived_0_age_not_null')\n",
        "plt.bar(X_axis + 0.2, Survived_1_age_null, width = 0.2,\n",
        "        color='navajowhite',\n",
        "        label = 'Survived_1_age_null')\n",
        "plt.bar(X_axis + 0.4, Survived_1_age_not_null, width = 0.2,\n",
        "        color='tab:orange',\n",
        "        label = 'Survived_1_age_not_null')\n",
        "\n",
        "plt.xticks(X_axis, X_axis)\n",
        "plt.xlabel(\"Group\")\n",
        "plt.ylabel(\"Percentage in the group\")\n",
        "plt.title('Grouped by Fare')\n",
        "plt.legend(bbox_to_anchor = (1.05, 0.6))\n",
        "plt.show()\n"
      ],
      "execution_count": 31,
      "outputs": [
        {
          "output_type": "display_data",
          "data": {
            "image/png": "[encoded data removed]",
            "text/plain": [
              "<Figure size 720x432 with 1 Axes>"
            ]
          },
          "metadata": {
            "needs_background": "light"
          }
        }
      ]
    },
    {
      "cell_type": "markdown",
      "metadata": {
        "id": "uK4jX0WoXVvj"
      },
      "source": [
        "### Fare + Sex"
      ]
    },
    {
      "cell_type": "code",
      "metadata": {
        "id": "JY6YAMPu60pN",
        "colab": {
          "base_uri": "https://localhost:8080/",
          "height": 279
        },
        "outputId": "af9f7c6a-125d-4565-f7aa-10acf978c326"
      },
      "source": [
        "sns.stripplot(x=\"Sex\", y=\"Fare\", hue=\"Survived\", data=df);"
      ],
      "execution_count": 32,
      "outputs": [
        {
          "output_type": "display_data",
          "data": {
            "image/png": "[encoded data removed]",
            "text/plain": [
              "<Figure size 432x288 with 1 Axes>"
            ]
          },
          "metadata": {
            "needs_background": "light"
          }
        }
      ]
    },
    {
      "cell_type": "markdown",
      "metadata": {
        "id": "kLCT4q2KXZ9N"
      },
      "source": [
        "### Age + Fare"
      ]
    },
    {
      "cell_type": "code",
      "metadata": {
        "id": "aXaVyEd27HuU",
        "colab": {
          "base_uri": "https://localhost:8080/",
          "height": 279
        },
        "outputId": "8ad62010-87b3-4c40-cb9e-9e13c732a245"
      },
      "source": [
        "sns.scatterplot(y=df[\"Age\"], x=df[\"Fare\"], hue=df[\"Survived\"]);"
      ],
      "execution_count": 33,
      "outputs": [
        {
          "output_type": "display_data",
          "data": {
            "image/png": "[encoded data removed]",
            "text/plain": [
              "<Figure size 432x288 with 1 Axes>"
            ]
          },
          "metadata": {
            "needs_background": "light"
          }
        }
      ]
    },
    {
      "cell_type": "markdown",
      "metadata": {
        "id": "nuNUX1_HXzFZ"
      },
      "source": [
        "### Pclass + Survived"
      ]
    },
    {
      "cell_type": "code",
      "metadata": {
        "colab": {
          "base_uri": "https://localhost:8080/",
          "height": 544
        },
        "id": "k094y4eFYDkp",
        "outputId": "86a7a819-7d7a-4b1f-f3db-a3bac8b51804"
      },
      "source": [
        "tmp_df = df.groupby(['Pclass','Survived']).size().to_frame()\n",
        "tmp_df.columns = ['count']\n",
        "tmp_df['prc'] = tmp_df.groupby(level=0).transform(\n",
        "    lambda x:(x/x.sum()).round(2))\n",
        "display(tmp_df)\n",
        "tmp_df = tmp_df.reset_index()\n",
        "\n",
        "Survived_0 = tmp_df[tmp_df.Survived == 0].prc.to_numpy()\n",
        "Survived_1 = tmp_df[tmp_df.Survived == 1].prc.to_numpy()\n",
        "list_pclass = [str(x) for x in tmp_df.Pclass.unique().astype('str')]\n",
        "X_axis = np.arange(len(list_pclass))\n",
        "\n",
        "plt.bar(X_axis - 0.1, Survived_0, 0.2, label = 'Survived_0')\n",
        "plt.bar(X_axis + 0.1, Survived_1, 0.2, label = 'Survived_1')\n",
        "\n",
        "plt.xticks(X_axis, list_pclass)\n",
        "plt.xlabel(\"Pclass\")\n",
        "plt.ylabel(\"Percentage in the Pclass\")\n",
        "plt.title('Percentage Survived in Pclass')\n",
        "plt.legend(bbox_to_anchor = (1.05, 0.6))\n",
        "plt.show()"
      ],
      "execution_count": 34,
      "outputs": [
        {
          "output_type": "display_data",
          "data": {
            "text/html": [
              "<div>\n",
              "<style scoped>\n",
              "    .dataframe tbody tr th:only-of-type {\n",
              "        vertical-align: middle;\n",
              "    }\n",
              "\n",
              "    .dataframe tbody tr th {\n",
              "        vertical-align: top;\n",
              "    }\n",
              "\n",
              "    .dataframe thead th {\n",
              "        text-align: right;\n",
              "    }\n",
              "</style>\n",
              "<table border=\"1\" class=\"dataframe\">\n",
              "  <thead>\n",
              "    <tr style=\"text-align: right;\">\n",
              "      <th></th>\n",
              "      <th></th>\n",
              "      <th>count</th>\n",
              "      <th>prc</th>\n",
              "    </tr>\n",
              "    <tr>\n",
              "      <th>Pclass</th>\n",
              "      <th>Survived</th>\n",
              "      <th></th>\n",
              "      <th></th>\n",
              "    </tr>\n",
              "  </thead>\n",
              "  <tbody>\n",
              "    <tr>\n",
              "      <th rowspan=\"2\" valign=\"top\">1</th>\n",
              "      <th>0</th>\n",
              "      <td>80</td>\n",
              "      <td>0.37</td>\n",
              "    </tr>\n",
              "    <tr>\n",
              "      <th>1</th>\n",
              "      <td>136</td>\n",
              "      <td>0.63</td>\n",
              "    </tr>\n",
              "    <tr>\n",
              "      <th rowspan=\"2\" valign=\"top\">2</th>\n",
              "      <th>0</th>\n",
              "      <td>97</td>\n",
              "      <td>0.53</td>\n",
              "    </tr>\n",
              "    <tr>\n",
              "      <th>1</th>\n",
              "      <td>87</td>\n",
              "      <td>0.47</td>\n",
              "    </tr>\n",
              "    <tr>\n",
              "      <th rowspan=\"2\" valign=\"top\">3</th>\n",
              "      <th>0</th>\n",
              "      <td>372</td>\n",
              "      <td>0.76</td>\n",
              "    </tr>\n",
              "    <tr>\n",
              "      <th>1</th>\n",
              "      <td>119</td>\n",
              "      <td>0.24</td>\n",
              "    </tr>\n",
              "  </tbody>\n",
              "</table>\n",
              "</div>"
            ],
            "text/plain": [
              "                 count   prc\n",
              "Pclass Survived             \n",
              "1      0            80  0.37\n",
              "       1           136  0.63\n",
              "2      0            97  0.53\n",
              "       1            87  0.47\n",
              "3      0           372  0.76\n",
              "       1           119  0.24"
            ]
          },
          "metadata": {}
        },
        {
          "output_type": "display_data",
          "data": {
            "image/png": "[encoded data removed]",
            "text/plain": [
              "<Figure size 432x288 with 1 Axes>"
            ]
          },
          "metadata": {
            "needs_background": "light"
          }
        }
      ]
    },
    {
      "cell_type": "markdown",
      "metadata": {
        "id": "uw1WLSSlaiE5"
      },
      "source": [
        "# **Preprocessing**"
      ]
    },
    {
      "cell_type": "code",
      "metadata": {
        "id": "sJVuMJrULM8P",
        "colab": {
          "base_uri": "https://localhost:8080/",
          "height": 790
        },
        "outputId": "013f5334-e4e0-48b5-ae64-058028b7aa01"
      },
      "source": [
        "df['age_null'] = 0\n",
        "df.loc[df[df.Age.isnull() == True].index,'age_null'] = 1\n",
        "\n",
        "df['name_Mr'] = np.where(df.Name.str.find('Mr.') == -1, 0, 1)\n",
        "df['name_Mrs'] = np.where(df.Name.str.find('Mrs.') == -1, 0, 1)\n",
        "df['name_Miss'] = np.where(df.Name.str.find('Miss.') == -1, 0, 1)\n",
        "df['cabin_null'] = np.where(df.Cabin.fillna(-1) == -1, 1, 0)\n",
        "df['sex_num'] = np.where(df.Sex == 'male', 1, 0)\n",
        "df['c_age'] = 0\n",
        "df = df.apply(new_age, axis=1, )\n",
        "df['Embarked_num'], _ = pd.factorize(df.Embarked)\n",
        "df['c_fare'] = pd.factorize(pd.qcut(df.Fare, 10))[0]/10\n",
        "\n",
        "y = df['Survived'].to_numpy()\n",
        "f_col = ['Pclass', 'SibSp', 'c_fare', 'Parch', 'age_null', 'name_Mr',\n",
        "        'name_Mrs', 'name_Miss', 'cabin_null', 'sex_num', 'c_age',\n",
        "        'Embarked_num']\n",
        "X = df[f_col].to_numpy()\n",
        "df"
      ],
      "execution_count": 35,
      "outputs": [
        {
          "output_type": "execute_result",
          "data": {
            "text/html": [
              "<div>\n",
              "<style scoped>\n",
              "    .dataframe tbody tr th:only-of-type {\n",
              "        vertical-align: middle;\n",
              "    }\n",
              "\n",
              "    .dataframe tbody tr th {\n",
              "        vertical-align: top;\n",
              "    }\n",
              "\n",
              "    .dataframe thead th {\n",
              "        text-align: right;\n",
              "    }\n",
              "</style>\n",
              "<table border=\"1\" class=\"dataframe\">\n",
              "  <thead>\n",
              "    <tr style=\"text-align: right;\">\n",
              "      <th></th>\n",
              "      <th>Survived</th>\n",
              "      <th>Pclass</th>\n",
              "      <th>Name</th>\n",
              "      <th>Sex</th>\n",
              "      <th>Age</th>\n",
              "      <th>SibSp</th>\n",
              "      <th>Parch</th>\n",
              "      <th>Ticket</th>\n",
              "      <th>Fare</th>\n",
              "      <th>Cabin</th>\n",
              "      <th>Embarked</th>\n",
              "      <th>age_null</th>\n",
              "      <th>c_fare</th>\n",
              "      <th>name_Mr</th>\n",
              "      <th>name_Mrs</th>\n",
              "      <th>name_Miss</th>\n",
              "      <th>cabin_null</th>\n",
              "      <th>sex_num</th>\n",
              "      <th>c_age</th>\n",
              "      <th>Embarked_num</th>\n",
              "    </tr>\n",
              "    <tr>\n",
              "      <th>PassengerId</th>\n",
              "      <th></th>\n",
              "      <th></th>\n",
              "      <th></th>\n",
              "      <th></th>\n",
              "      <th></th>\n",
              "      <th></th>\n",
              "      <th></th>\n",
              "      <th></th>\n",
              "      <th></th>\n",
              "      <th></th>\n",
              "      <th></th>\n",
              "      <th></th>\n",
              "      <th></th>\n",
              "      <th></th>\n",
              "      <th></th>\n",
              "      <th></th>\n",
              "      <th></th>\n",
              "      <th></th>\n",
              "      <th></th>\n",
              "      <th></th>\n",
              "    </tr>\n",
              "  </thead>\n",
              "  <tbody>\n",
              "    <tr>\n",
              "      <th>1</th>\n",
              "      <td>0</td>\n",
              "      <td>3</td>\n",
              "      <td>Braund, Mr. Owen Harris</td>\n",
              "      <td>male</td>\n",
              "      <td>22.0</td>\n",
              "      <td>1</td>\n",
              "      <td>0</td>\n",
              "      <td>A/5 21171</td>\n",
              "      <td>7.2500</td>\n",
              "      <td>NaN</td>\n",
              "      <td>S</td>\n",
              "      <td>0</td>\n",
              "      <td>0.0</td>\n",
              "      <td>1</td>\n",
              "      <td>0</td>\n",
              "      <td>0</td>\n",
              "      <td>1</td>\n",
              "      <td>1</td>\n",
              "      <td>2</td>\n",
              "      <td>0</td>\n",
              "    </tr>\n",
              "    <tr>\n",
              "      <th>2</th>\n",
              "      <td>1</td>\n",
              "      <td>1</td>\n",
              "      <td>Cumings, Mrs. John Bradley (Florence Briggs Th...</td>\n",
              "      <td>female</td>\n",
              "      <td>38.0</td>\n",
              "      <td>1</td>\n",
              "      <td>0</td>\n",
              "      <td>PC 17599</td>\n",
              "      <td>71.2833</td>\n",
              "      <td>C85</td>\n",
              "      <td>C</td>\n",
              "      <td>0</td>\n",
              "      <td>0.1</td>\n",
              "      <td>0</td>\n",
              "      <td>1</td>\n",
              "      <td>0</td>\n",
              "      <td>0</td>\n",
              "      <td>0</td>\n",
              "      <td>2</td>\n",
              "      <td>1</td>\n",
              "    </tr>\n",
              "    <tr>\n",
              "      <th>3</th>\n",
              "      <td>1</td>\n",
              "      <td>3</td>\n",
              "      <td>Heikkinen, Miss. Laina</td>\n",
              "      <td>female</td>\n",
              "      <td>26.0</td>\n",
              "      <td>0</td>\n",
              "      <td>0</td>\n",
              "      <td>STON/O2. 3101282</td>\n",
              "      <td>7.9250</td>\n",
              "      <td>NaN</td>\n",
              "      <td>S</td>\n",
              "      <td>0</td>\n",
              "      <td>0.2</td>\n",
              "      <td>0</td>\n",
              "      <td>0</td>\n",
              "      <td>1</td>\n",
              "      <td>1</td>\n",
              "      <td>0</td>\n",
              "      <td>2</td>\n",
              "      <td>0</td>\n",
              "    </tr>\n",
              "    <tr>\n",
              "      <th>4</th>\n",
              "      <td>1</td>\n",
              "      <td>1</td>\n",
              "      <td>Futrelle, Mrs. Jacques Heath (Lily May Peel)</td>\n",
              "      <td>female</td>\n",
              "      <td>35.0</td>\n",
              "      <td>1</td>\n",
              "      <td>0</td>\n",
              "      <td>113803</td>\n",
              "      <td>53.1000</td>\n",
              "      <td>C123</td>\n",
              "      <td>S</td>\n",
              "      <td>0</td>\n",
              "      <td>0.1</td>\n",
              "      <td>0</td>\n",
              "      <td>1</td>\n",
              "      <td>0</td>\n",
              "      <td>0</td>\n",
              "      <td>0</td>\n",
              "      <td>2</td>\n",
              "      <td>0</td>\n",
              "    </tr>\n",
              "    <tr>\n",
              "      <th>5</th>\n",
              "      <td>0</td>\n",
              "      <td>3</td>\n",
              "      <td>Allen, Mr. William Henry</td>\n",
              "      <td>male</td>\n",
              "      <td>35.0</td>\n",
              "      <td>0</td>\n",
              "      <td>0</td>\n",
              "      <td>373450</td>\n",
              "      <td>8.0500</td>\n",
              "      <td>NaN</td>\n",
              "      <td>S</td>\n",
              "      <td>0</td>\n",
              "      <td>0.2</td>\n",
              "      <td>1</td>\n",
              "      <td>0</td>\n",
              "      <td>0</td>\n",
              "      <td>1</td>\n",
              "      <td>1</td>\n",
              "      <td>2</td>\n",
              "      <td>0</td>\n",
              "    </tr>\n",
              "    <tr>\n",
              "      <th>...</th>\n",
              "      <td>...</td>\n",
              "      <td>...</td>\n",
              "      <td>...</td>\n",
              "      <td>...</td>\n",
              "      <td>...</td>\n",
              "      <td>...</td>\n",
              "      <td>...</td>\n",
              "      <td>...</td>\n",
              "      <td>...</td>\n",
              "      <td>...</td>\n",
              "      <td>...</td>\n",
              "      <td>...</td>\n",
              "      <td>...</td>\n",
              "      <td>...</td>\n",
              "      <td>...</td>\n",
              "      <td>...</td>\n",
              "      <td>...</td>\n",
              "      <td>...</td>\n",
              "      <td>...</td>\n",
              "      <td>...</td>\n",
              "    </tr>\n",
              "    <tr>\n",
              "      <th>887</th>\n",
              "      <td>0</td>\n",
              "      <td>2</td>\n",
              "      <td>Montvila, Rev. Juozas</td>\n",
              "      <td>male</td>\n",
              "      <td>27.0</td>\n",
              "      <td>0</td>\n",
              "      <td>0</td>\n",
              "      <td>211536</td>\n",
              "      <td>13.0000</td>\n",
              "      <td>NaN</td>\n",
              "      <td>S</td>\n",
              "      <td>0</td>\n",
              "      <td>0.5</td>\n",
              "      <td>0</td>\n",
              "      <td>0</td>\n",
              "      <td>0</td>\n",
              "      <td>1</td>\n",
              "      <td>1</td>\n",
              "      <td>2</td>\n",
              "      <td>0</td>\n",
              "    </tr>\n",
              "    <tr>\n",
              "      <th>888</th>\n",
              "      <td>1</td>\n",
              "      <td>1</td>\n",
              "      <td>Graham, Miss. Margaret Edith</td>\n",
              "      <td>female</td>\n",
              "      <td>19.0</td>\n",
              "      <td>0</td>\n",
              "      <td>0</td>\n",
              "      <td>112053</td>\n",
              "      <td>30.0000</td>\n",
              "      <td>B42</td>\n",
              "      <td>S</td>\n",
              "      <td>0</td>\n",
              "      <td>0.6</td>\n",
              "      <td>0</td>\n",
              "      <td>0</td>\n",
              "      <td>1</td>\n",
              "      <td>0</td>\n",
              "      <td>0</td>\n",
              "      <td>2</td>\n",
              "      <td>0</td>\n",
              "    </tr>\n",
              "    <tr>\n",
              "      <th>889</th>\n",
              "      <td>0</td>\n",
              "      <td>3</td>\n",
              "      <td>Johnston, Miss. Catherine Helen \"Carrie\"</td>\n",
              "      <td>female</td>\n",
              "      <td>NaN</td>\n",
              "      <td>1</td>\n",
              "      <td>2</td>\n",
              "      <td>W./C. 6607</td>\n",
              "      <td>23.4500</td>\n",
              "      <td>NaN</td>\n",
              "      <td>S</td>\n",
              "      <td>1</td>\n",
              "      <td>0.7</td>\n",
              "      <td>0</td>\n",
              "      <td>0</td>\n",
              "      <td>1</td>\n",
              "      <td>1</td>\n",
              "      <td>0</td>\n",
              "      <td>-1</td>\n",
              "      <td>0</td>\n",
              "    </tr>\n",
              "    <tr>\n",
              "      <th>890</th>\n",
              "      <td>1</td>\n",
              "      <td>1</td>\n",
              "      <td>Behr, Mr. Karl Howell</td>\n",
              "      <td>male</td>\n",
              "      <td>26.0</td>\n",
              "      <td>0</td>\n",
              "      <td>0</td>\n",
              "      <td>111369</td>\n",
              "      <td>30.0000</td>\n",
              "      <td>C148</td>\n",
              "      <td>C</td>\n",
              "      <td>0</td>\n",
              "      <td>0.6</td>\n",
              "      <td>1</td>\n",
              "      <td>0</td>\n",
              "      <td>0</td>\n",
              "      <td>0</td>\n",
              "      <td>1</td>\n",
              "      <td>2</td>\n",
              "      <td>1</td>\n",
              "    </tr>\n",
              "    <tr>\n",
              "      <th>891</th>\n",
              "      <td>0</td>\n",
              "      <td>3</td>\n",
              "      <td>Dooley, Mr. Patrick</td>\n",
              "      <td>male</td>\n",
              "      <td>32.0</td>\n",
              "      <td>0</td>\n",
              "      <td>0</td>\n",
              "      <td>370376</td>\n",
              "      <td>7.7500</td>\n",
              "      <td>NaN</td>\n",
              "      <td>Q</td>\n",
              "      <td>0</td>\n",
              "      <td>0.8</td>\n",
              "      <td>1</td>\n",
              "      <td>0</td>\n",
              "      <td>0</td>\n",
              "      <td>1</td>\n",
              "      <td>1</td>\n",
              "      <td>2</td>\n",
              "      <td>2</td>\n",
              "    </tr>\n",
              "  </tbody>\n",
              "</table>\n",
              "<p>891 rows × 20 columns</p>\n",
              "</div>"
            ],
            "text/plain": [
              "             Survived  Pclass  ... c_age Embarked_num\n",
              "PassengerId                    ...                   \n",
              "1                   0       3  ...     2            0\n",
              "2                   1       1  ...     2            1\n",
              "3                   1       3  ...     2            0\n",
              "4                   1       1  ...     2            0\n",
              "5                   0       3  ...     2            0\n",
              "...               ...     ...  ...   ...          ...\n",
              "887                 0       2  ...     2            0\n",
              "888                 1       1  ...     2            0\n",
              "889                 0       3  ...    -1            0\n",
              "890                 1       1  ...     2            1\n",
              "891                 0       3  ...     2            2\n",
              "\n",
              "[891 rows x 20 columns]"
            ]
          },
          "metadata": {},
          "execution_count": 35
        }
      ]
    },
    {
      "cell_type": "code",
      "metadata": {
        "colab": {
          "base_uri": "https://localhost:8080/",
          "height": 297
        },
        "id": "oy1gzbyEbPYu",
        "outputId": "ba90049c-4f99-4c74-f91d-12e33474401d"
      },
      "source": [
        "# Col for LogisticRegression \n",
        "# print(f_col)\n",
        "display(df[f_col].describe())"
      ],
      "execution_count": 36,
      "outputs": [
        {
          "output_type": "display_data",
          "data": {
            "text/html": [
              "<div>\n",
              "<style scoped>\n",
              "    .dataframe tbody tr th:only-of-type {\n",
              "        vertical-align: middle;\n",
              "    }\n",
              "\n",
              "    .dataframe tbody tr th {\n",
              "        vertical-align: top;\n",
              "    }\n",
              "\n",
              "    .dataframe thead th {\n",
              "        text-align: right;\n",
              "    }\n",
              "</style>\n",
              "<table border=\"1\" class=\"dataframe\">\n",
              "  <thead>\n",
              "    <tr style=\"text-align: right;\">\n",
              "      <th></th>\n",
              "      <th>Pclass</th>\n",
              "      <th>SibSp</th>\n",
              "      <th>c_fare</th>\n",
              "      <th>Parch</th>\n",
              "      <th>age_null</th>\n",
              "      <th>name_Mr</th>\n",
              "      <th>name_Mrs</th>\n",
              "      <th>name_Miss</th>\n",
              "      <th>cabin_null</th>\n",
              "      <th>sex_num</th>\n",
              "      <th>c_age</th>\n",
              "      <th>Embarked_num</th>\n",
              "    </tr>\n",
              "  </thead>\n",
              "  <tbody>\n",
              "    <tr>\n",
              "      <th>count</th>\n",
              "      <td>891.000000</td>\n",
              "      <td>891.000000</td>\n",
              "      <td>891.000000</td>\n",
              "      <td>891.000000</td>\n",
              "      <td>891.000000</td>\n",
              "      <td>891.000000</td>\n",
              "      <td>891.000000</td>\n",
              "      <td>891.000000</td>\n",
              "      <td>891.000000</td>\n",
              "      <td>891.000000</td>\n",
              "      <td>891.000000</td>\n",
              "      <td>891.000000</td>\n",
              "    </tr>\n",
              "    <tr>\n",
              "      <th>mean</th>\n",
              "      <td>2.308642</td>\n",
              "      <td>0.523008</td>\n",
              "      <td>0.443883</td>\n",
              "      <td>0.381594</td>\n",
              "      <td>0.198653</td>\n",
              "      <td>0.580247</td>\n",
              "      <td>0.140292</td>\n",
              "      <td>0.204265</td>\n",
              "      <td>0.771044</td>\n",
              "      <td>0.647587</td>\n",
              "      <td>1.346801</td>\n",
              "      <td>0.359147</td>\n",
              "    </tr>\n",
              "    <tr>\n",
              "      <th>std</th>\n",
              "      <td>0.836071</td>\n",
              "      <td>1.102743</td>\n",
              "      <td>0.288729</td>\n",
              "      <td>0.806057</td>\n",
              "      <td>0.399210</td>\n",
              "      <td>0.493796</td>\n",
              "      <td>0.347485</td>\n",
              "      <td>0.403390</td>\n",
              "      <td>0.420397</td>\n",
              "      <td>0.477990</td>\n",
              "      <td>1.201983</td>\n",
              "      <td>0.638707</td>\n",
              "    </tr>\n",
              "    <tr>\n",
              "      <th>min</th>\n",
              "      <td>1.000000</td>\n",
              "      <td>0.000000</td>\n",
              "      <td>0.000000</td>\n",
              "      <td>0.000000</td>\n",
              "      <td>0.000000</td>\n",
              "      <td>0.000000</td>\n",
              "      <td>0.000000</td>\n",
              "      <td>0.000000</td>\n",
              "      <td>0.000000</td>\n",
              "      <td>0.000000</td>\n",
              "      <td>-1.000000</td>\n",
              "      <td>-1.000000</td>\n",
              "    </tr>\n",
              "    <tr>\n",
              "      <th>25%</th>\n",
              "      <td>2.000000</td>\n",
              "      <td>0.000000</td>\n",
              "      <td>0.200000</td>\n",
              "      <td>0.000000</td>\n",
              "      <td>0.000000</td>\n",
              "      <td>0.000000</td>\n",
              "      <td>0.000000</td>\n",
              "      <td>0.000000</td>\n",
              "      <td>1.000000</td>\n",
              "      <td>0.000000</td>\n",
              "      <td>1.000000</td>\n",
              "      <td>0.000000</td>\n",
              "    </tr>\n",
              "    <tr>\n",
              "      <th>50%</th>\n",
              "      <td>3.000000</td>\n",
              "      <td>0.000000</td>\n",
              "      <td>0.400000</td>\n",
              "      <td>0.000000</td>\n",
              "      <td>0.000000</td>\n",
              "      <td>1.000000</td>\n",
              "      <td>0.000000</td>\n",
              "      <td>0.000000</td>\n",
              "      <td>1.000000</td>\n",
              "      <td>1.000000</td>\n",
              "      <td>2.000000</td>\n",
              "      <td>0.000000</td>\n",
              "    </tr>\n",
              "    <tr>\n",
              "      <th>75%</th>\n",
              "      <td>3.000000</td>\n",
              "      <td>1.000000</td>\n",
              "      <td>0.700000</td>\n",
              "      <td>0.000000</td>\n",
              "      <td>0.000000</td>\n",
              "      <td>1.000000</td>\n",
              "      <td>0.000000</td>\n",
              "      <td>0.000000</td>\n",
              "      <td>1.000000</td>\n",
              "      <td>1.000000</td>\n",
              "      <td>2.000000</td>\n",
              "      <td>1.000000</td>\n",
              "    </tr>\n",
              "    <tr>\n",
              "      <th>max</th>\n",
              "      <td>3.000000</td>\n",
              "      <td>8.000000</td>\n",
              "      <td>0.900000</td>\n",
              "      <td>6.000000</td>\n",
              "      <td>1.000000</td>\n",
              "      <td>1.000000</td>\n",
              "      <td>1.000000</td>\n",
              "      <td>1.000000</td>\n",
              "      <td>1.000000</td>\n",
              "      <td>1.000000</td>\n",
              "      <td>3.000000</td>\n",
              "      <td>2.000000</td>\n",
              "    </tr>\n",
              "  </tbody>\n",
              "</table>\n",
              "</div>"
            ],
            "text/plain": [
              "           Pclass       SibSp      c_fare  ...     sex_num       c_age  Embarked_num\n",
              "count  891.000000  891.000000  891.000000  ...  891.000000  891.000000    891.000000\n",
              "mean     2.308642    0.523008    0.443883  ...    0.647587    1.346801      0.359147\n",
              "std      0.836071    1.102743    0.288729  ...    0.477990    1.201983      0.638707\n",
              "min      1.000000    0.000000    0.000000  ...    0.000000   -1.000000     -1.000000\n",
              "25%      2.000000    0.000000    0.200000  ...    0.000000    1.000000      0.000000\n",
              "50%      3.000000    0.000000    0.400000  ...    1.000000    2.000000      0.000000\n",
              "75%      3.000000    1.000000    0.700000  ...    1.000000    2.000000      1.000000\n",
              "max      3.000000    8.000000    0.900000  ...    1.000000    3.000000      2.000000\n",
              "\n",
              "[8 rows x 12 columns]"
            ]
          },
          "metadata": {}
        }
      ]
    },
    {
      "cell_type": "markdown",
      "metadata": {
        "id": "YH_ZUxsudQY2"
      },
      "source": [
        "## Feature Importance (Random Forest)"
      ]
    },
    {
      "cell_type": "code",
      "metadata": {
        "id": "STuOjBaA19iF"
      },
      "source": [
        "from sklearn.ensemble import RandomForestRegressor"
      ],
      "execution_count": 37,
      "outputs": []
    },
    {
      "cell_type": "code",
      "metadata": {
        "id": "zs4nhqmKhCYx"
      },
      "source": [
        "f_col_new = [x for x in f_col \n",
        "             if x not in ['name_Mr', 'age_null'\n",
        "             , 'cabin_null', 'name_Mrs', 'name_Miss']]"
      ],
      "execution_count": 38,
      "outputs": []
    },
    {
      "cell_type": "code",
      "metadata": {
        "colab": {
          "base_uri": "https://localhost:8080/",
          "height": 295
        },
        "id": "t5HeRkrapbSo",
        "outputId": "e1841223-a25a-49b6-c996-1d5b31c34269"
      },
      "source": [
        "y = df['Survived'].to_numpy()\n",
        "X = df[f_col_new].to_numpy()\n",
        "\n",
        "rf = RandomForestRegressor(n_estimators=100, n_jobs=-1)\n",
        "rf.fit(X, y)\n",
        "\n",
        "rffi = rf.feature_importances_\n",
        "\n",
        "fig, ax = plt.subplots()\n",
        "\n",
        "ax.barh(f_col_new, rffi, height=0.8, alpha=0.8, edgecolor='k')\n",
        "ax.set_xlabel('Importance score')\n",
        "ax.set_title('Feature importance')\n",
        "plt.gca().invert_yaxis()\n"
      ],
      "execution_count": 39,
      "outputs": [
        {
          "output_type": "display_data",
          "data": {
            "image/png": "[encoded data removed]",
            "text/plain": [
              "<Figure size 432x288 with 1 Axes>"
            ]
          },
          "metadata": {
            "needs_background": "light"
          }
        }
      ]
    },
    {
      "cell_type": "markdown",
      "metadata": {
        "id": "7UKEQ4YEdMxJ"
      },
      "source": [
        "## Correlation matrix of features"
      ]
    },
    {
      "cell_type": "code",
      "metadata": {
        "id": "aIE6Tn3bf8mV"
      },
      "source": [
        "f_col_new = [x for x in f_col \n",
        "             if x not in ['name_Mr', 'age_null'\n",
        "             , 'cabin_null', 'name_Mrs', 'name_Miss']]"
      ],
      "execution_count": 40,
      "outputs": []
    },
    {
      "cell_type": "code",
      "metadata": {
        "colab": {
          "base_uri": "https://localhost:8080/",
          "height": 390
        },
        "id": "gZIpCT2wbkfq",
        "outputId": "de946d64-bf68-44dd-a242-b583f63c76e4"
      },
      "source": [
        "df_corr = df[['Survived'] + f_col_new].corr()\n",
        "\n",
        "mask = np.zeros_like(df_corr, dtype=np.bool)\n",
        "mask[np.triu_indices_from(mask)] = True\n",
        "\n",
        "fig, ax = plt.subplots(figsize=(6, 5))\n",
        "\n",
        "cmap = sns.diverging_palette(220, 10, as_cmap=True, sep=100)\n",
        "\n",
        "sns.heatmap(df_corr, mask=mask, cmap=cmap, vmin=-1, vmax=1,\n",
        "            center=0, linewidths=.5)\n",
        "\n",
        "fig.suptitle('Correlation matrix of features', fontsize=15)\n",
        "\n",
        "fig.tight_layout()\n",
        "print(f'Determinants {round(np.linalg.det(df_corr.to_numpy()), 4)}')"
      ],
      "execution_count": 41,
      "outputs": [
        {
          "output_type": "stream",
          "name": "stdout",
          "text": [
            "Determinants 0.3198\n"
          ]
        },
        {
          "output_type": "display_data",
          "data": {
            "image/png": "[encoded data removed]",
            "text/plain": [
              "<Figure size 432x360 with 2 Axes>"
            ]
          },
          "metadata": {
            "needs_background": "light"
          }
        }
      ]
    },
    {
      "cell_type": "markdown",
      "metadata": {
        "id": "jd0HkTHKaCGX"
      },
      "source": [
        "# **Creating Models**"
      ]
    },
    {
      "cell_type": "markdown",
      "metadata": {
        "id": "ii0P4OmqbpAU"
      },
      "source": [
        "## 1. LogisticRegression"
      ]
    },
    {
      "cell_type": "code",
      "metadata": {
        "id": "AHacP74eKxjP"
      },
      "source": [
        "from sklearn.model_selection import train_test_split\n",
        "from sklearn import metrics\n",
        "from sklearn.linear_model import LogisticRegression\n",
        "from sklearn.metrics import confusion_matrix"
      ],
      "execution_count": 42,
      "outputs": []
    },
    {
      "cell_type": "code",
      "metadata": {
        "id": "8-UD-U6A575S"
      },
      "source": [
        "f_col_new = [x for x in f_col \n",
        "             if x not in ['name_Mr', 'age_null'\n",
        "             , 'cabin_null', 'name_Mrs', 'name_Miss']]\n",
        "\n",
        "y = df['Survived'].to_numpy()\n",
        "X = df[f_col].to_numpy()"
      ],
      "execution_count": 43,
      "outputs": []
    },
    {
      "cell_type": "code",
      "metadata": {
        "id": "5uwdLkuWQMAh",
        "colab": {
          "base_uri": "https://localhost:8080/"
        },
        "outputId": "f8af6ca8-6921-43e5-b7ce-d2c2843d553f"
      },
      "source": [
        "X_train,X_test,y_train,y_test=train_test_split(X, y,\n",
        "                                               test_size=0.25,\n",
        "                                               random_state=0)\n",
        "\n",
        "model = LogisticRegression(multi_class='multinomial',\n",
        "                           solver='lbfgs', penalty='none')\n",
        "\n",
        "model.fit(X_train,y_train)\n",
        "\n",
        "y_pred=model.predict(X_test)\n",
        "model_score = model.score(X,y)\n",
        "model_p_p = model.predict_proba(X_test)\n",
        "result_df = pd.DataFrame(model_p_p)\n",
        "result_df['target'] = y_test\n",
        "result_df.columns = ['prob_0', 'prob_1', 'target']\n",
        "\n",
        "auc, gini, cf_row, cut_of = fast_analize_roc_conf_m_silence(\n",
        "    result_df[['prob_1','target']],\n",
        "    'Classification Model', 'prob_1')\n",
        "\n",
        "# ['TN','FP','FN','TP']\n",
        "print(round(model_score, 4), round(auc, 4), round(gini, 4), cf_row, cut_of)"
      ],
      "execution_count": 44,
      "outputs": [
        {
          "output_type": "stream",
          "name": "stdout",
          "text": [
            "0.8137 0.8649 0.7298 [104, 35, 12, 72] 0.345\n"
          ]
        }
      ]
    },
    {
      "cell_type": "code",
      "metadata": {
        "id": "UJWabYsyKFhZ",
        "colab": {
          "base_uri": "https://localhost:8080/",
          "height": 370
        },
        "outputId": "5bf3f406-7505-442f-ff52-5a4817e4fb43"
      },
      "source": [
        "from numpy import mean\n",
        "from numpy import std\n",
        "from sklearn.datasets import make_classification\n",
        "from sklearn.model_selection import cross_val_score\n",
        "from sklearn.model_selection import RepeatedStratifiedKFold\n",
        "from sklearn.linear_model import LogisticRegression\n",
        " \n",
        "\n",
        "def get_models():\n",
        "\tmodels = dict()\n",
        "\tfor p in [0.0, 0.0001, 0.001, 0.01, 0.1, 1.0]:\n",
        "\t\tkey = '%.4f' % p\n",
        "\t\tif p == 0.0:\n",
        "\t\t\tmodels[key] = LogisticRegression(multi_class='multinomial', solver='lbfgs', penalty='none')\n",
        "\t\telse:\n",
        "\t\t\tmodels[key] = LogisticRegression(multi_class='multinomial', solver='lbfgs', penalty='l2', C=p)\n",
        "\treturn models\n",
        " \n",
        "\n",
        "def evaluate_model(model, X, y):\n",
        "\tcv = RepeatedStratifiedKFold(n_splits=10, n_repeats=3, random_state=1)\n",
        "\tscores = cross_val_score(model, X, y, scoring='accuracy', cv=cv, n_jobs=-1)\n",
        "\treturn scores\n",
        " \n",
        "\n",
        "models = get_models()\n",
        "results, names = list(), list()\n",
        "for name, model in models.items():\n",
        "    scores = evaluate_model(model, X, y)\n",
        "    results.append(scores)\n",
        "    names.append(name)\n",
        "    \n",
        "    model.fit(X_train,y_train)\n",
        "    y_pred=model.predict(X_test)\n",
        "    model_score = model.score(X,y)\n",
        "    model_p_p = model.predict_proba(X_test)\n",
        "    result_df = pd.DataFrame(model_p_p)\n",
        "    result_df['target'] = y_test\n",
        "    result_df.columns = ['prob_0', 'prob_1', 'target']\n",
        "\n",
        "    auc, gini, cf_row, cut_of = fast_analize_roc_conf_m_silence(result_df[['prob_1','target']],\n",
        "                                  'Classification Model', 'prob_1')\n",
        "    print(round(model_score, 4), round(auc, 4), round(gini, 4), cf_row, cut_of,\n",
        "          end='\\t')\n",
        "\t# summarize progress along the way\n",
        "    print('>%s %.3f (%.3f)' % (name, mean(scores), std(scores)))\n",
        "# plot model performance for comparison\n",
        "plt.boxplot(results, labels=names, showmeans=True)\n",
        "plt.show()"
      ],
      "execution_count": 45,
      "outputs": [
        {
          "output_type": "stream",
          "name": "stdout",
          "text": [
            "0.8137 0.8649 0.7298 [104, 35, 12, 72] 0.345\t>0.0000 0.814 (0.039)\n",
            "0.6162 0.8465 0.693 [97, 42, 11, 73] 0.386\t>0.0001 0.616 (0.004)\n",
            "0.6655 0.8529 0.7058 [113, 26, 20, 64] 0.408\t>0.0010 0.690 (0.030)\n",
            "0.8036 0.8568 0.7136 [94, 45, 8, 76] 0.278\t>0.0100 0.800 (0.041)\n",
            "0.8058 0.8584 0.7169 [98, 41, 8, 76] 0.293\t>0.1000 0.807 (0.046)\n",
            "0.8137 0.8599 0.7199 [104, 35, 12, 72] 0.347\t>1.0000 0.812 (0.043)\n"
          ]
        },
        {
          "output_type": "display_data",
          "data": {
            "image/png": "[encoded data removed]",
            "text/plain": [
              "<Figure size 432x288 with 1 Axes>"
            ]
          },
          "metadata": {
            "needs_background": "light"
          }
        }
      ]
    },
    {
      "cell_type": "markdown",
      "metadata": {
        "id": "DjhDoQ2E9D7q"
      },
      "source": [
        "## CatBoost"
      ]
    },
    {
      "cell_type": "code",
      "metadata": {
        "id": "fJzKv6DN-KTU",
        "colab": {
          "base_uri": "https://localhost:8080/"
        },
        "outputId": "cbcc7476-39ac-4a47-d082-b3bf4881cb7a"
      },
      "source": [
        "!pip install catboost"
      ],
      "execution_count": 46,
      "outputs": [
        {
          "output_type": "stream",
          "name": "stdout",
          "text": [
            "Requirement already satisfied: catboost in /usr/local/lib/python3.7/dist-packages (0.26.1)\n",
            "Requirement already satisfied: scipy in /usr/local/lib/python3.7/dist-packages (from catboost) (1.4.1)\n",
            "Requirement already satisfied: matplotlib in /usr/local/lib/python3.7/dist-packages (from catboost) (3.2.2)\n",
            "Requirement already satisfied: six in /usr/local/lib/python3.7/dist-packages (from catboost) (1.15.0)\n",
            "Requirement already satisfied: graphviz in /usr/local/lib/python3.7/dist-packages (from catboost) (0.10.1)\n",
            "Requirement already satisfied: plotly in /usr/local/lib/python3.7/dist-packages (from catboost) (4.4.1)\n",
            "Requirement already satisfied: numpy>=1.16.0 in /usr/local/lib/python3.7/dist-packages (from catboost) (1.19.5)\n",
            "Requirement already satisfied: pandas>=0.24.0 in /usr/local/lib/python3.7/dist-packages (from catboost) (1.1.5)\n",
            "Requirement already satisfied: python-dateutil>=2.7.3 in /usr/local/lib/python3.7/dist-packages (from pandas>=0.24.0->catboost) (2.8.2)\n",
            "Requirement already satisfied: pytz>=2017.2 in /usr/local/lib/python3.7/dist-packages (from pandas>=0.24.0->catboost) (2018.9)\n",
            "Requirement already satisfied: pyparsing!=2.0.4,!=2.1.2,!=2.1.6,>=2.0.1 in /usr/local/lib/python3.7/dist-packages (from matplotlib->catboost) (2.4.7)\n",
            "Requirement already satisfied: kiwisolver>=1.0.1 in /usr/local/lib/python3.7/dist-packages (from matplotlib->catboost) (1.3.1)\n",
            "Requirement already satisfied: cycler>=0.10 in /usr/local/lib/python3.7/dist-packages (from matplotlib->catboost) (0.10.0)\n",
            "Requirement already satisfied: retrying>=1.3.3 in /usr/local/lib/python3.7/dist-packages (from plotly->catboost) (1.3.3)\n"
          ]
        }
      ]
    },
    {
      "cell_type": "code",
      "metadata": {
        "id": "PAL6P6BU9Dn3"
      },
      "source": [
        "from catboost import CatBoostRegressor\n",
        "cat = CatBoostRegressor()"
      ],
      "execution_count": 47,
      "outputs": []
    },
    {
      "cell_type": "code",
      "metadata": {
        "id": "7kzCJG0X_JSR"
      },
      "source": [
        "f_col_new = [x for x in f_col \n",
        "             if x not in ['name_Mr', 'age_null'\n",
        "             , 'cabin_null', 'name_Mrs', 'name_Miss']]\n",
        "\n",
        "y = df['Survived'].to_numpy()\n",
        "X = df[f_col + ['Age', 'Fare']].to_numpy()\n",
        "\n",
        "X_train,X_test,y_train,y_test=train_test_split(X, y,\n",
        "                                               test_size=0.25,\n",
        "                                               random_state=0)"
      ],
      "execution_count": 48,
      "outputs": []
    },
    {
      "cell_type": "code",
      "metadata": {
        "id": "XGMzqQMVA8H0"
      },
      "source": [
        "cat.fit(X_train, y_train, verbose=False)\n",
        "# tn, fp, fn, tp = confusion_matrix(y_test, y_pred).ravel()\n",
        "y_pred = cat.predict(X_test)\n",
        "model_score = cat.score(X,y)"
      ],
      "execution_count": 49,
      "outputs": []
    },
    {
      "cell_type": "code",
      "metadata": {
        "id": "jgGMWcXrB-Fp",
        "colab": {
          "base_uri": "https://localhost:8080/"
        },
        "outputId": "47130657-ac8c-4f72-d926-1121eb4c3c7f"
      },
      "source": [
        "tn, fp, fn, tp = confusion_matrix(y_test, list(map(round, y_pred))).ravel()\n",
        "print(round(model_score, 4), [tn, fp, fn, tp])"
      ],
      "execution_count": 50,
      "outputs": [
        {
          "output_type": "stream",
          "name": "stdout",
          "text": [
            "0.729 [123, 16, 22, 62]\n"
          ]
        }
      ]
    },
    {
      "cell_type": "code",
      "metadata": {
        "colab": {
          "base_uri": "https://localhost:8080/"
        },
        "id": "e8LNR18ENgvu",
        "outputId": "7db8bf8c-64f1-4f1b-9cb2-9b59b29979ab"
      },
      "source": [
        "from catboost import CatBoostClassifier\n",
        "# Initialize data\n",
        "cat_features = [0, 1]\n",
        "train_data = [[\"a\", \"b\", 1, 4, 5, 6],\n",
        "              [\"a\", \"b\", 4, 5, 6, 7],\n",
        "              [\"c\", \"d\", 30, 40, 50, 60]]\n",
        "train_labels = [1, 1, -1]\n",
        "eval_data = [[\"a\", \"b\", 2, 4, 6, 8],\n",
        "             [\"a\", \"d\", 1, 4, 50, 60]]\n",
        "\n",
        "# Initialize CatBoostClassifier\n",
        "model = CatBoostClassifier(silent=True)\n",
        "# Fit model\n",
        "model.fit(X_train,y_train)\n",
        "# Get predicted classes\n",
        "preds_class = model.predict(X_test)\n",
        "# Get predicted probabilities for each class\n",
        "preds_proba = model.predict_proba(X_test)\n",
        "\n",
        "model_score = model.score(X,y)\n",
        "\n",
        "result_df = pd.DataFrame(preds_proba)\n",
        "result_df['target'] = y_test\n",
        "result_df.columns = ['prob_0', 'prob_1', 'target']\n",
        "\n",
        "auc, gini, cf_row, cut_of = fast_analize_roc_conf_m_silence(result_df[['prob_1','target']],\n",
        "                                  'Classification Model', 'prob_1')\n",
        "print(round(model_score, 4), round(auc, 4), round(gini, 4), cf_row, cut_of)"
      ],
      "execution_count": 51,
      "outputs": [
        {
          "output_type": "stream",
          "name": "stdout",
          "text": [
            "0.8911 0.872 0.744 [123, 16, 20, 64] 0.451\n"
          ]
        }
      ]
    },
    {
      "cell_type": "markdown",
      "metadata": {
        "id": "D-jnLPoFQJih"
      },
      "source": [
        "# Test Data"
      ]
    },
    {
      "cell_type": "code",
      "metadata": {
        "id": "dTu2lotiPhhZ"
      },
      "source": [
        ""
      ],
      "execution_count": 51,
      "outputs": []
    },
    {
      "cell_type": "code",
      "metadata": {
        "colab": {
          "base_uri": "https://localhost:8080/",
          "height": 569
        },
        "id": "rS7_4jtXPuJl",
        "outputId": "c24056dd-237f-46e5-c588-95b81fe313d0"
      },
      "source": [
        "df = pd.read_csv(path_+'test.csv', index_col='PassengerId')\n",
        "\n",
        "df['age_null'] = 0\n",
        "df.loc[df[df.Age.isnull() == True].index,'age_null'] = 1\n",
        "\n",
        "df['name_Mr'] = np.where(df.Name.str.find('Mr.') == -1, 0, 1)\n",
        "df['name_Mrs'] = np.where(df.Name.str.find('Mrs.') == -1, 0, 1)\n",
        "df['name_Miss'] = np.where(df.Name.str.find('Miss.') == -1, 0, 1)\n",
        "df['cabin_null'] = np.where(df.Cabin.fillna(-1) == -1, 1, 0)\n",
        "df['sex_num'] = np.where(df.Sex == 'male', 1, 0)\n",
        "df['c_age'] = 0\n",
        "df = df.apply(new_age, axis=1, )\n",
        "df['Embarked_num'], _ = pd.factorize(df.Embarked)\n",
        "df['c_fare'] = pd.factorize(pd.qcut(df.Fare, 10))[0]/10\n",
        "\n",
        "f_col = ['Pclass', 'SibSp', 'c_fare', 'Parch', 'age_null', 'name_Mr',\n",
        "        'name_Mrs', 'name_Miss', 'cabin_null', 'sex_num', 'c_age',\n",
        "        'Embarked_num']\n",
        "X = df[f_col + ['Age', 'Fare']].to_numpy()\n",
        "df"
      ],
      "execution_count": 52,
      "outputs": [
        {
          "output_type": "execute_result",
          "data": {
            "text/html": [
              "<div>\n",
              "<style scoped>\n",
              "    .dataframe tbody tr th:only-of-type {\n",
              "        vertical-align: middle;\n",
              "    }\n",
              "\n",
              "    .dataframe tbody tr th {\n",
              "        vertical-align: top;\n",
              "    }\n",
              "\n",
              "    .dataframe thead th {\n",
              "        text-align: right;\n",
              "    }\n",
              "</style>\n",
              "<table border=\"1\" class=\"dataframe\">\n",
              "  <thead>\n",
              "    <tr style=\"text-align: right;\">\n",
              "      <th></th>\n",
              "      <th>Pclass</th>\n",
              "      <th>Name</th>\n",
              "      <th>Sex</th>\n",
              "      <th>Age</th>\n",
              "      <th>SibSp</th>\n",
              "      <th>Parch</th>\n",
              "      <th>Ticket</th>\n",
              "      <th>Fare</th>\n",
              "      <th>Cabin</th>\n",
              "      <th>Embarked</th>\n",
              "      <th>age_null</th>\n",
              "      <th>name_Mr</th>\n",
              "      <th>name_Mrs</th>\n",
              "      <th>name_Miss</th>\n",
              "      <th>cabin_null</th>\n",
              "      <th>sex_num</th>\n",
              "      <th>c_age</th>\n",
              "      <th>Embarked_num</th>\n",
              "      <th>c_fare</th>\n",
              "    </tr>\n",
              "    <tr>\n",
              "      <th>PassengerId</th>\n",
              "      <th></th>\n",
              "      <th></th>\n",
              "      <th></th>\n",
              "      <th></th>\n",
              "      <th></th>\n",
              "      <th></th>\n",
              "      <th></th>\n",
              "      <th></th>\n",
              "      <th></th>\n",
              "      <th></th>\n",
              "      <th></th>\n",
              "      <th></th>\n",
              "      <th></th>\n",
              "      <th></th>\n",
              "      <th></th>\n",
              "      <th></th>\n",
              "      <th></th>\n",
              "      <th></th>\n",
              "      <th></th>\n",
              "    </tr>\n",
              "  </thead>\n",
              "  <tbody>\n",
              "    <tr>\n",
              "      <th>892</th>\n",
              "      <td>3</td>\n",
              "      <td>Kelly, Mr. James</td>\n",
              "      <td>male</td>\n",
              "      <td>34.5</td>\n",
              "      <td>0</td>\n",
              "      <td>0</td>\n",
              "      <td>330911</td>\n",
              "      <td>7.8292</td>\n",
              "      <td>NaN</td>\n",
              "      <td>Q</td>\n",
              "      <td>0</td>\n",
              "      <td>1</td>\n",
              "      <td>0</td>\n",
              "      <td>0</td>\n",
              "      <td>1</td>\n",
              "      <td>1</td>\n",
              "      <td>2</td>\n",
              "      <td>0</td>\n",
              "      <td>0.0</td>\n",
              "    </tr>\n",
              "    <tr>\n",
              "      <th>893</th>\n",
              "      <td>3</td>\n",
              "      <td>Wilkes, Mrs. James (Ellen Needs)</td>\n",
              "      <td>female</td>\n",
              "      <td>47.0</td>\n",
              "      <td>1</td>\n",
              "      <td>0</td>\n",
              "      <td>363272</td>\n",
              "      <td>7.0000</td>\n",
              "      <td>NaN</td>\n",
              "      <td>S</td>\n",
              "      <td>0</td>\n",
              "      <td>0</td>\n",
              "      <td>1</td>\n",
              "      <td>0</td>\n",
              "      <td>1</td>\n",
              "      <td>0</td>\n",
              "      <td>2</td>\n",
              "      <td>1</td>\n",
              "      <td>0.1</td>\n",
              "    </tr>\n",
              "    <tr>\n",
              "      <th>894</th>\n",
              "      <td>2</td>\n",
              "      <td>Myles, Mr. Thomas Francis</td>\n",
              "      <td>male</td>\n",
              "      <td>62.0</td>\n",
              "      <td>0</td>\n",
              "      <td>0</td>\n",
              "      <td>240276</td>\n",
              "      <td>9.6875</td>\n",
              "      <td>NaN</td>\n",
              "      <td>Q</td>\n",
              "      <td>0</td>\n",
              "      <td>1</td>\n",
              "      <td>0</td>\n",
              "      <td>0</td>\n",
              "      <td>1</td>\n",
              "      <td>1</td>\n",
              "      <td>2</td>\n",
              "      <td>0</td>\n",
              "      <td>0.2</td>\n",
              "    </tr>\n",
              "    <tr>\n",
              "      <th>895</th>\n",
              "      <td>3</td>\n",
              "      <td>Wirz, Mr. Albert</td>\n",
              "      <td>male</td>\n",
              "      <td>27.0</td>\n",
              "      <td>0</td>\n",
              "      <td>0</td>\n",
              "      <td>315154</td>\n",
              "      <td>8.6625</td>\n",
              "      <td>NaN</td>\n",
              "      <td>S</td>\n",
              "      <td>0</td>\n",
              "      <td>1</td>\n",
              "      <td>0</td>\n",
              "      <td>0</td>\n",
              "      <td>1</td>\n",
              "      <td>1</td>\n",
              "      <td>2</td>\n",
              "      <td>1</td>\n",
              "      <td>0.2</td>\n",
              "    </tr>\n",
              "    <tr>\n",
              "      <th>896</th>\n",
              "      <td>3</td>\n",
              "      <td>Hirvonen, Mrs. Alexander (Helga E Lindqvist)</td>\n",
              "      <td>female</td>\n",
              "      <td>22.0</td>\n",
              "      <td>1</td>\n",
              "      <td>1</td>\n",
              "      <td>3101298</td>\n",
              "      <td>12.2875</td>\n",
              "      <td>NaN</td>\n",
              "      <td>S</td>\n",
              "      <td>0</td>\n",
              "      <td>0</td>\n",
              "      <td>1</td>\n",
              "      <td>0</td>\n",
              "      <td>1</td>\n",
              "      <td>0</td>\n",
              "      <td>2</td>\n",
              "      <td>1</td>\n",
              "      <td>0.3</td>\n",
              "    </tr>\n",
              "    <tr>\n",
              "      <th>...</th>\n",
              "      <td>...</td>\n",
              "      <td>...</td>\n",
              "      <td>...</td>\n",
              "      <td>...</td>\n",
              "      <td>...</td>\n",
              "      <td>...</td>\n",
              "      <td>...</td>\n",
              "      <td>...</td>\n",
              "      <td>...</td>\n",
              "      <td>...</td>\n",
              "      <td>...</td>\n",
              "      <td>...</td>\n",
              "      <td>...</td>\n",
              "      <td>...</td>\n",
              "      <td>...</td>\n",
              "      <td>...</td>\n",
              "      <td>...</td>\n",
              "      <td>...</td>\n",
              "      <td>...</td>\n",
              "    </tr>\n",
              "    <tr>\n",
              "      <th>1305</th>\n",
              "      <td>3</td>\n",
              "      <td>Spector, Mr. Woolf</td>\n",
              "      <td>male</td>\n",
              "      <td>NaN</td>\n",
              "      <td>0</td>\n",
              "      <td>0</td>\n",
              "      <td>A.5. 3236</td>\n",
              "      <td>8.0500</td>\n",
              "      <td>NaN</td>\n",
              "      <td>S</td>\n",
              "      <td>1</td>\n",
              "      <td>1</td>\n",
              "      <td>0</td>\n",
              "      <td>0</td>\n",
              "      <td>1</td>\n",
              "      <td>1</td>\n",
              "      <td>-1</td>\n",
              "      <td>1</td>\n",
              "      <td>0.0</td>\n",
              "    </tr>\n",
              "    <tr>\n",
              "      <th>1306</th>\n",
              "      <td>1</td>\n",
              "      <td>Oliva y Ocana, Dona. Fermina</td>\n",
              "      <td>female</td>\n",
              "      <td>39.0</td>\n",
              "      <td>0</td>\n",
              "      <td>0</td>\n",
              "      <td>PC 17758</td>\n",
              "      <td>108.9000</td>\n",
              "      <td>C105</td>\n",
              "      <td>C</td>\n",
              "      <td>0</td>\n",
              "      <td>0</td>\n",
              "      <td>0</td>\n",
              "      <td>0</td>\n",
              "      <td>0</td>\n",
              "      <td>0</td>\n",
              "      <td>2</td>\n",
              "      <td>2</td>\n",
              "      <td>0.6</td>\n",
              "    </tr>\n",
              "    <tr>\n",
              "      <th>1307</th>\n",
              "      <td>3</td>\n",
              "      <td>Saether, Mr. Simon Sivertsen</td>\n",
              "      <td>male</td>\n",
              "      <td>38.5</td>\n",
              "      <td>0</td>\n",
              "      <td>0</td>\n",
              "      <td>SOTON/O.Q. 3101262</td>\n",
              "      <td>7.2500</td>\n",
              "      <td>NaN</td>\n",
              "      <td>S</td>\n",
              "      <td>0</td>\n",
              "      <td>1</td>\n",
              "      <td>0</td>\n",
              "      <td>0</td>\n",
              "      <td>1</td>\n",
              "      <td>1</td>\n",
              "      <td>2</td>\n",
              "      <td>1</td>\n",
              "      <td>0.1</td>\n",
              "    </tr>\n",
              "    <tr>\n",
              "      <th>1308</th>\n",
              "      <td>3</td>\n",
              "      <td>Ware, Mr. Frederick</td>\n",
              "      <td>male</td>\n",
              "      <td>NaN</td>\n",
              "      <td>0</td>\n",
              "      <td>0</td>\n",
              "      <td>359309</td>\n",
              "      <td>8.0500</td>\n",
              "      <td>NaN</td>\n",
              "      <td>S</td>\n",
              "      <td>1</td>\n",
              "      <td>1</td>\n",
              "      <td>0</td>\n",
              "      <td>0</td>\n",
              "      <td>1</td>\n",
              "      <td>1</td>\n",
              "      <td>-1</td>\n",
              "      <td>1</td>\n",
              "      <td>0.0</td>\n",
              "    </tr>\n",
              "    <tr>\n",
              "      <th>1309</th>\n",
              "      <td>3</td>\n",
              "      <td>Peter, Master. Michael J</td>\n",
              "      <td>male</td>\n",
              "      <td>NaN</td>\n",
              "      <td>1</td>\n",
              "      <td>1</td>\n",
              "      <td>2668</td>\n",
              "      <td>22.3583</td>\n",
              "      <td>NaN</td>\n",
              "      <td>C</td>\n",
              "      <td>1</td>\n",
              "      <td>0</td>\n",
              "      <td>0</td>\n",
              "      <td>0</td>\n",
              "      <td>1</td>\n",
              "      <td>1</td>\n",
              "      <td>-1</td>\n",
              "      <td>2</td>\n",
              "      <td>0.5</td>\n",
              "    </tr>\n",
              "  </tbody>\n",
              "</table>\n",
              "<p>418 rows × 19 columns</p>\n",
              "</div>"
            ],
            "text/plain": [
              "             Pclass  ... c_fare\n",
              "PassengerId          ...       \n",
              "892               3  ...    0.0\n",
              "893               3  ...    0.1\n",
              "894               2  ...    0.2\n",
              "895               3  ...    0.2\n",
              "896               3  ...    0.3\n",
              "...             ...  ...    ...\n",
              "1305              3  ...    0.0\n",
              "1306              1  ...    0.6\n",
              "1307              3  ...    0.1\n",
              "1308              3  ...    0.0\n",
              "1309              3  ...    0.5\n",
              "\n",
              "[418 rows x 19 columns]"
            ]
          },
          "metadata": {},
          "execution_count": 52
        }
      ]
    },
    {
      "cell_type": "code",
      "metadata": {
        "colab": {
          "base_uri": "https://localhost:8080/",
          "height": 297
        },
        "id": "sw2R7SZnQdt4",
        "outputId": "ffa30e9c-9de7-47a6-f437-f4a239828ae4"
      },
      "source": [
        "display(df[f_col].describe())"
      ],
      "execution_count": 53,
      "outputs": [
        {
          "output_type": "display_data",
          "data": {
            "text/html": [
              "<div>\n",
              "<style scoped>\n",
              "    .dataframe tbody tr th:only-of-type {\n",
              "        vertical-align: middle;\n",
              "    }\n",
              "\n",
              "    .dataframe tbody tr th {\n",
              "        vertical-align: top;\n",
              "    }\n",
              "\n",
              "    .dataframe thead th {\n",
              "        text-align: right;\n",
              "    }\n",
              "</style>\n",
              "<table border=\"1\" class=\"dataframe\">\n",
              "  <thead>\n",
              "    <tr style=\"text-align: right;\">\n",
              "      <th></th>\n",
              "      <th>Pclass</th>\n",
              "      <th>SibSp</th>\n",
              "      <th>c_fare</th>\n",
              "      <th>Parch</th>\n",
              "      <th>age_null</th>\n",
              "      <th>name_Mr</th>\n",
              "      <th>name_Mrs</th>\n",
              "      <th>name_Miss</th>\n",
              "      <th>cabin_null</th>\n",
              "      <th>sex_num</th>\n",
              "      <th>c_age</th>\n",
              "      <th>Embarked_num</th>\n",
              "    </tr>\n",
              "  </thead>\n",
              "  <tbody>\n",
              "    <tr>\n",
              "      <th>count</th>\n",
              "      <td>418.000000</td>\n",
              "      <td>418.000000</td>\n",
              "      <td>418.000000</td>\n",
              "      <td>418.000000</td>\n",
              "      <td>418.000000</td>\n",
              "      <td>418.000000</td>\n",
              "      <td>418.000000</td>\n",
              "      <td>418.000000</td>\n",
              "      <td>418.000000</td>\n",
              "      <td>418.000000</td>\n",
              "      <td>418.000000</td>\n",
              "      <td>418.000000</td>\n",
              "    </tr>\n",
              "    <tr>\n",
              "      <th>mean</th>\n",
              "      <td>2.265550</td>\n",
              "      <td>0.447368</td>\n",
              "      <td>0.445215</td>\n",
              "      <td>0.392344</td>\n",
              "      <td>0.205742</td>\n",
              "      <td>0.574163</td>\n",
              "      <td>0.172249</td>\n",
              "      <td>0.186603</td>\n",
              "      <td>0.782297</td>\n",
              "      <td>0.636364</td>\n",
              "      <td>1.339713</td>\n",
              "      <td>1.133971</td>\n",
              "    </tr>\n",
              "    <tr>\n",
              "      <th>std</th>\n",
              "      <td>0.841838</td>\n",
              "      <td>0.896760</td>\n",
              "      <td>0.294210</td>\n",
              "      <td>0.981429</td>\n",
              "      <td>0.404727</td>\n",
              "      <td>0.495062</td>\n",
              "      <td>0.378049</td>\n",
              "      <td>0.390059</td>\n",
              "      <td>0.413179</td>\n",
              "      <td>0.481622</td>\n",
              "      <td>1.213198</td>\n",
              "      <td>0.580452</td>\n",
              "    </tr>\n",
              "    <tr>\n",
              "      <th>min</th>\n",
              "      <td>1.000000</td>\n",
              "      <td>0.000000</td>\n",
              "      <td>-0.100000</td>\n",
              "      <td>0.000000</td>\n",
              "      <td>0.000000</td>\n",
              "      <td>0.000000</td>\n",
              "      <td>0.000000</td>\n",
              "      <td>0.000000</td>\n",
              "      <td>0.000000</td>\n",
              "      <td>0.000000</td>\n",
              "      <td>-1.000000</td>\n",
              "      <td>0.000000</td>\n",
              "    </tr>\n",
              "    <tr>\n",
              "      <th>25%</th>\n",
              "      <td>1.000000</td>\n",
              "      <td>0.000000</td>\n",
              "      <td>0.200000</td>\n",
              "      <td>0.000000</td>\n",
              "      <td>0.000000</td>\n",
              "      <td>0.000000</td>\n",
              "      <td>0.000000</td>\n",
              "      <td>0.000000</td>\n",
              "      <td>1.000000</td>\n",
              "      <td>0.000000</td>\n",
              "      <td>1.000000</td>\n",
              "      <td>1.000000</td>\n",
              "    </tr>\n",
              "    <tr>\n",
              "      <th>50%</th>\n",
              "      <td>3.000000</td>\n",
              "      <td>0.000000</td>\n",
              "      <td>0.500000</td>\n",
              "      <td>0.000000</td>\n",
              "      <td>0.000000</td>\n",
              "      <td>1.000000</td>\n",
              "      <td>0.000000</td>\n",
              "      <td>0.000000</td>\n",
              "      <td>1.000000</td>\n",
              "      <td>1.000000</td>\n",
              "      <td>2.000000</td>\n",
              "      <td>1.000000</td>\n",
              "    </tr>\n",
              "    <tr>\n",
              "      <th>75%</th>\n",
              "      <td>3.000000</td>\n",
              "      <td>1.000000</td>\n",
              "      <td>0.700000</td>\n",
              "      <td>0.000000</td>\n",
              "      <td>0.000000</td>\n",
              "      <td>1.000000</td>\n",
              "      <td>0.000000</td>\n",
              "      <td>0.000000</td>\n",
              "      <td>1.000000</td>\n",
              "      <td>1.000000</td>\n",
              "      <td>2.000000</td>\n",
              "      <td>1.000000</td>\n",
              "    </tr>\n",
              "    <tr>\n",
              "      <th>max</th>\n",
              "      <td>3.000000</td>\n",
              "      <td>8.000000</td>\n",
              "      <td>0.900000</td>\n",
              "      <td>9.000000</td>\n",
              "      <td>1.000000</td>\n",
              "      <td>1.000000</td>\n",
              "      <td>1.000000</td>\n",
              "      <td>1.000000</td>\n",
              "      <td>1.000000</td>\n",
              "      <td>1.000000</td>\n",
              "      <td>3.000000</td>\n",
              "      <td>2.000000</td>\n",
              "    </tr>\n",
              "  </tbody>\n",
              "</table>\n",
              "</div>"
            ],
            "text/plain": [
              "           Pclass       SibSp      c_fare  ...     sex_num       c_age  Embarked_num\n",
              "count  418.000000  418.000000  418.000000  ...  418.000000  418.000000    418.000000\n",
              "mean     2.265550    0.447368    0.445215  ...    0.636364    1.339713      1.133971\n",
              "std      0.841838    0.896760    0.294210  ...    0.481622    1.213198      0.580452\n",
              "min      1.000000    0.000000   -0.100000  ...    0.000000   -1.000000      0.000000\n",
              "25%      1.000000    0.000000    0.200000  ...    0.000000    1.000000      1.000000\n",
              "50%      3.000000    0.000000    0.500000  ...    1.000000    2.000000      1.000000\n",
              "75%      3.000000    1.000000    0.700000  ...    1.000000    2.000000      1.000000\n",
              "max      3.000000    8.000000    0.900000  ...    1.000000    3.000000      2.000000\n",
              "\n",
              "[8 rows x 12 columns]"
            ]
          },
          "metadata": {}
        }
      ]
    },
    {
      "cell_type": "code",
      "metadata": {
        "id": "PxzMGV2lROia"
      },
      "source": [
        "predict = model.predict(X)"
      ],
      "execution_count": 54,
      "outputs": []
    },
    {
      "cell_type": "code",
      "metadata": {
        "colab": {
          "base_uri": "https://localhost:8080/"
        },
        "id": "W5Wjb6h1Rcyr",
        "outputId": "ed20df50-d3ff-49e2-99ce-873b55a5ef4f"
      },
      "source": [
        "['PassengerId','Survived']"
      ],
      "execution_count": 55,
      "outputs": [
        {
          "output_type": "execute_result",
          "data": {
            "text/plain": [
              "['PassengerId', 'Survived']"
            ]
          },
          "metadata": {},
          "execution_count": 55
        }
      ]
    },
    {
      "cell_type": "code",
      "metadata": {
        "id": "I3vzu3lDSFeu"
      },
      "source": [
        "result = pd.DataFrame({'PassengerId': df.index.to_numpy(),'Survived':predict})"
      ],
      "execution_count": 56,
      "outputs": []
    },
    {
      "cell_type": "code",
      "metadata": {
        "id": "fMLcGpCRSoVW"
      },
      "source": [
        "result.to_csv('result.csv', index=False, sep=',')"
      ],
      "execution_count": 57,
      "outputs": []
    },
    {
      "cell_type": "code",
      "metadata": {
        "id": "iJxDkns6TDMR"
      },
      "source": [
        "df['Survived'] = result['Survived'].to_numpy()"
      ],
      "execution_count": 58,
      "outputs": []
    },
    {
      "cell_type": "code",
      "metadata": {
        "colab": {
          "base_uri": "https://localhost:8080/",
          "height": 807
        },
        "id": "fVpzU-9ZTjSU",
        "outputId": "1d79d707-d9b3-48ad-e13e-993aca525790"
      },
      "source": [
        "df"
      ],
      "execution_count": 59,
      "outputs": [
        {
          "output_type": "execute_result",
          "data": {
            "text/html": [
              "<div>\n",
              "<style scoped>\n",
              "    .dataframe tbody tr th:only-of-type {\n",
              "        vertical-align: middle;\n",
              "    }\n",
              "\n",
              "    .dataframe tbody tr th {\n",
              "        vertical-align: top;\n",
              "    }\n",
              "\n",
              "    .dataframe thead th {\n",
              "        text-align: right;\n",
              "    }\n",
              "</style>\n",
              "<table border=\"1\" class=\"dataframe\">\n",
              "  <thead>\n",
              "    <tr style=\"text-align: right;\">\n",
              "      <th></th>\n",
              "      <th>Pclass</th>\n",
              "      <th>Name</th>\n",
              "      <th>Sex</th>\n",
              "      <th>Age</th>\n",
              "      <th>SibSp</th>\n",
              "      <th>Parch</th>\n",
              "      <th>Ticket</th>\n",
              "      <th>Fare</th>\n",
              "      <th>Cabin</th>\n",
              "      <th>Embarked</th>\n",
              "      <th>age_null</th>\n",
              "      <th>name_Mr</th>\n",
              "      <th>name_Mrs</th>\n",
              "      <th>name_Miss</th>\n",
              "      <th>cabin_null</th>\n",
              "      <th>sex_num</th>\n",
              "      <th>c_age</th>\n",
              "      <th>Embarked_num</th>\n",
              "      <th>c_fare</th>\n",
              "      <th>Survived</th>\n",
              "    </tr>\n",
              "    <tr>\n",
              "      <th>PassengerId</th>\n",
              "      <th></th>\n",
              "      <th></th>\n",
              "      <th></th>\n",
              "      <th></th>\n",
              "      <th></th>\n",
              "      <th></th>\n",
              "      <th></th>\n",
              "      <th></th>\n",
              "      <th></th>\n",
              "      <th></th>\n",
              "      <th></th>\n",
              "      <th></th>\n",
              "      <th></th>\n",
              "      <th></th>\n",
              "      <th></th>\n",
              "      <th></th>\n",
              "      <th></th>\n",
              "      <th></th>\n",
              "      <th></th>\n",
              "      <th></th>\n",
              "    </tr>\n",
              "  </thead>\n",
              "  <tbody>\n",
              "    <tr>\n",
              "      <th>892</th>\n",
              "      <td>3</td>\n",
              "      <td>Kelly, Mr. James</td>\n",
              "      <td>male</td>\n",
              "      <td>34.5</td>\n",
              "      <td>0</td>\n",
              "      <td>0</td>\n",
              "      <td>330911</td>\n",
              "      <td>7.8292</td>\n",
              "      <td>NaN</td>\n",
              "      <td>Q</td>\n",
              "      <td>0</td>\n",
              "      <td>1</td>\n",
              "      <td>0</td>\n",
              "      <td>0</td>\n",
              "      <td>1</td>\n",
              "      <td>1</td>\n",
              "      <td>2</td>\n",
              "      <td>0</td>\n",
              "      <td>0.0</td>\n",
              "      <td>0</td>\n",
              "    </tr>\n",
              "    <tr>\n",
              "      <th>893</th>\n",
              "      <td>3</td>\n",
              "      <td>Wilkes, Mrs. James (Ellen Needs)</td>\n",
              "      <td>female</td>\n",
              "      <td>47.0</td>\n",
              "      <td>1</td>\n",
              "      <td>0</td>\n",
              "      <td>363272</td>\n",
              "      <td>7.0000</td>\n",
              "      <td>NaN</td>\n",
              "      <td>S</td>\n",
              "      <td>0</td>\n",
              "      <td>0</td>\n",
              "      <td>1</td>\n",
              "      <td>0</td>\n",
              "      <td>1</td>\n",
              "      <td>0</td>\n",
              "      <td>2</td>\n",
              "      <td>1</td>\n",
              "      <td>0.1</td>\n",
              "      <td>0</td>\n",
              "    </tr>\n",
              "    <tr>\n",
              "      <th>894</th>\n",
              "      <td>2</td>\n",
              "      <td>Myles, Mr. Thomas Francis</td>\n",
              "      <td>male</td>\n",
              "      <td>62.0</td>\n",
              "      <td>0</td>\n",
              "      <td>0</td>\n",
              "      <td>240276</td>\n",
              "      <td>9.6875</td>\n",
              "      <td>NaN</td>\n",
              "      <td>Q</td>\n",
              "      <td>0</td>\n",
              "      <td>1</td>\n",
              "      <td>0</td>\n",
              "      <td>0</td>\n",
              "      <td>1</td>\n",
              "      <td>1</td>\n",
              "      <td>2</td>\n",
              "      <td>0</td>\n",
              "      <td>0.2</td>\n",
              "      <td>0</td>\n",
              "    </tr>\n",
              "    <tr>\n",
              "      <th>895</th>\n",
              "      <td>3</td>\n",
              "      <td>Wirz, Mr. Albert</td>\n",
              "      <td>male</td>\n",
              "      <td>27.0</td>\n",
              "      <td>0</td>\n",
              "      <td>0</td>\n",
              "      <td>315154</td>\n",
              "      <td>8.6625</td>\n",
              "      <td>NaN</td>\n",
              "      <td>S</td>\n",
              "      <td>0</td>\n",
              "      <td>1</td>\n",
              "      <td>0</td>\n",
              "      <td>0</td>\n",
              "      <td>1</td>\n",
              "      <td>1</td>\n",
              "      <td>2</td>\n",
              "      <td>1</td>\n",
              "      <td>0.2</td>\n",
              "      <td>0</td>\n",
              "    </tr>\n",
              "    <tr>\n",
              "      <th>896</th>\n",
              "      <td>3</td>\n",
              "      <td>Hirvonen, Mrs. Alexander (Helga E Lindqvist)</td>\n",
              "      <td>female</td>\n",
              "      <td>22.0</td>\n",
              "      <td>1</td>\n",
              "      <td>1</td>\n",
              "      <td>3101298</td>\n",
              "      <td>12.2875</td>\n",
              "      <td>NaN</td>\n",
              "      <td>S</td>\n",
              "      <td>0</td>\n",
              "      <td>0</td>\n",
              "      <td>1</td>\n",
              "      <td>0</td>\n",
              "      <td>1</td>\n",
              "      <td>0</td>\n",
              "      <td>2</td>\n",
              "      <td>1</td>\n",
              "      <td>0.3</td>\n",
              "      <td>1</td>\n",
              "    </tr>\n",
              "    <tr>\n",
              "      <th>...</th>\n",
              "      <td>...</td>\n",
              "      <td>...</td>\n",
              "      <td>...</td>\n",
              "      <td>...</td>\n",
              "      <td>...</td>\n",
              "      <td>...</td>\n",
              "      <td>...</td>\n",
              "      <td>...</td>\n",
              "      <td>...</td>\n",
              "      <td>...</td>\n",
              "      <td>...</td>\n",
              "      <td>...</td>\n",
              "      <td>...</td>\n",
              "      <td>...</td>\n",
              "      <td>...</td>\n",
              "      <td>...</td>\n",
              "      <td>...</td>\n",
              "      <td>...</td>\n",
              "      <td>...</td>\n",
              "      <td>...</td>\n",
              "    </tr>\n",
              "    <tr>\n",
              "      <th>1305</th>\n",
              "      <td>3</td>\n",
              "      <td>Spector, Mr. Woolf</td>\n",
              "      <td>male</td>\n",
              "      <td>NaN</td>\n",
              "      <td>0</td>\n",
              "      <td>0</td>\n",
              "      <td>A.5. 3236</td>\n",
              "      <td>8.0500</td>\n",
              "      <td>NaN</td>\n",
              "      <td>S</td>\n",
              "      <td>1</td>\n",
              "      <td>1</td>\n",
              "      <td>0</td>\n",
              "      <td>0</td>\n",
              "      <td>1</td>\n",
              "      <td>1</td>\n",
              "      <td>-1</td>\n",
              "      <td>1</td>\n",
              "      <td>0.0</td>\n",
              "      <td>0</td>\n",
              "    </tr>\n",
              "    <tr>\n",
              "      <th>1306</th>\n",
              "      <td>1</td>\n",
              "      <td>Oliva y Ocana, Dona. Fermina</td>\n",
              "      <td>female</td>\n",
              "      <td>39.0</td>\n",
              "      <td>0</td>\n",
              "      <td>0</td>\n",
              "      <td>PC 17758</td>\n",
              "      <td>108.9000</td>\n",
              "      <td>C105</td>\n",
              "      <td>C</td>\n",
              "      <td>0</td>\n",
              "      <td>0</td>\n",
              "      <td>0</td>\n",
              "      <td>0</td>\n",
              "      <td>0</td>\n",
              "      <td>0</td>\n",
              "      <td>2</td>\n",
              "      <td>2</td>\n",
              "      <td>0.6</td>\n",
              "      <td>1</td>\n",
              "    </tr>\n",
              "    <tr>\n",
              "      <th>1307</th>\n",
              "      <td>3</td>\n",
              "      <td>Saether, Mr. Simon Sivertsen</td>\n",
              "      <td>male</td>\n",
              "      <td>38.5</td>\n",
              "      <td>0</td>\n",
              "      <td>0</td>\n",
              "      <td>SOTON/O.Q. 3101262</td>\n",
              "      <td>7.2500</td>\n",
              "      <td>NaN</td>\n",
              "      <td>S</td>\n",
              "      <td>0</td>\n",
              "      <td>1</td>\n",
              "      <td>0</td>\n",
              "      <td>0</td>\n",
              "      <td>1</td>\n",
              "      <td>1</td>\n",
              "      <td>2</td>\n",
              "      <td>1</td>\n",
              "      <td>0.1</td>\n",
              "      <td>0</td>\n",
              "    </tr>\n",
              "    <tr>\n",
              "      <th>1308</th>\n",
              "      <td>3</td>\n",
              "      <td>Ware, Mr. Frederick</td>\n",
              "      <td>male</td>\n",
              "      <td>NaN</td>\n",
              "      <td>0</td>\n",
              "      <td>0</td>\n",
              "      <td>359309</td>\n",
              "      <td>8.0500</td>\n",
              "      <td>NaN</td>\n",
              "      <td>S</td>\n",
              "      <td>1</td>\n",
              "      <td>1</td>\n",
              "      <td>0</td>\n",
              "      <td>0</td>\n",
              "      <td>1</td>\n",
              "      <td>1</td>\n",
              "      <td>-1</td>\n",
              "      <td>1</td>\n",
              "      <td>0.0</td>\n",
              "      <td>0</td>\n",
              "    </tr>\n",
              "    <tr>\n",
              "      <th>1309</th>\n",
              "      <td>3</td>\n",
              "      <td>Peter, Master. Michael J</td>\n",
              "      <td>male</td>\n",
              "      <td>NaN</td>\n",
              "      <td>1</td>\n",
              "      <td>1</td>\n",
              "      <td>2668</td>\n",
              "      <td>22.3583</td>\n",
              "      <td>NaN</td>\n",
              "      <td>C</td>\n",
              "      <td>1</td>\n",
              "      <td>0</td>\n",
              "      <td>0</td>\n",
              "      <td>0</td>\n",
              "      <td>1</td>\n",
              "      <td>1</td>\n",
              "      <td>-1</td>\n",
              "      <td>2</td>\n",
              "      <td>0.5</td>\n",
              "      <td>1</td>\n",
              "    </tr>\n",
              "  </tbody>\n",
              "</table>\n",
              "<p>418 rows × 20 columns</p>\n",
              "</div>"
            ],
            "text/plain": [
              "             Pclass  ... Survived\n",
              "PassengerId          ...         \n",
              "892               3  ...        0\n",
              "893               3  ...        0\n",
              "894               2  ...        0\n",
              "895               3  ...        0\n",
              "896               3  ...        1\n",
              "...             ...  ...      ...\n",
              "1305              3  ...        0\n",
              "1306              1  ...        1\n",
              "1307              3  ...        0\n",
              "1308              3  ...        0\n",
              "1309              3  ...        1\n",
              "\n",
              "[418 rows x 20 columns]"
            ]
          },
          "metadata": {},
          "execution_count": 59
        }
      ]
    }
  ]
}